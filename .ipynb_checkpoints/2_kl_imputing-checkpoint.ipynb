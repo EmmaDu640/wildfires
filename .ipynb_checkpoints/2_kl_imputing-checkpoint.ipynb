{
 "cells": [
  {
   "cell_type": "markdown",
   "id": "5fea003e",
   "metadata": {},
   "source": [
    "# <font color='violet'> Impute Missing Data\n",
    " \n",
    "Specifically focus on using latitude and longitude to fill in county names, which are stored in the column called FIPS_NAME. "
   ]
  },
  {
   "cell_type": "code",
   "execution_count": 1,
   "id": "14d72dec",
   "metadata": {},
   "outputs": [],
   "source": [
    "%load_ext sql"
   ]
  },
  {
   "cell_type": "code",
   "execution_count": 2,
   "id": "6a001617",
   "metadata": {},
   "outputs": [],
   "source": [
    "%sql sqlite:///wildfire.sqlite"
   ]
  },
  {
   "cell_type": "code",
   "execution_count": null,
   "id": "5b4b97dc",
   "metadata": {},
   "outputs": [],
   "source": [
    "%%sql\n"
   ]
  }
 ],
 "metadata": {
  "kernelspec": {
   "display_name": "Python 3 (ipykernel)",
   "language": "python",
   "name": "python3"
  },
  "language_info": {
   "codemirror_mode": {
    "name": "ipython",
    "version": 3
   },
   "file_extension": ".py",
   "mimetype": "text/x-python",
   "name": "python",
   "nbconvert_exporter": "python",
   "pygments_lexer": "ipython3",
   "version": "3.9.12"
  }
 },
 "nbformat": 4,
 "nbformat_minor": 5
}
