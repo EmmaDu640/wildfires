{
 "cells": [
  {
   "cell_type": "markdown",
   "id": "de271e3c",
   "metadata": {},
   "source": [
    "# <font color='violet'> EDA\n",
    " \n",
    "Here, I'll use SQL to create the target variable \"season length\" and use a combination of SQL and Pandas to explore relationships among this variable, fires' intensity, and other variables. "
   ]
  },
  {
   "cell_type": "code",
   "execution_count": 15,
   "id": "e4206071",
   "metadata": {},
   "outputs": [],
   "source": [
    "import sqlite3\n",
    "import pandas as pd\n",
    "import matplotlib.pyplot as plt\n",
    "import seaborn as sns"
   ]
  },
  {
   "cell_type": "code",
   "execution_count": 2,
   "id": "941e2d81",
   "metadata": {},
   "outputs": [],
   "source": [
    "%load_ext sql"
   ]
  },
  {
   "cell_type": "code",
   "execution_count": 3,
   "id": "067b3097",
   "metadata": {},
   "outputs": [],
   "source": [
    "%sql sqlite:///eldorado.sqlite"
   ]
  },
  {
   "cell_type": "code",
   "execution_count": 6,
   "id": "0d9fa98b",
   "metadata": {},
   "outputs": [
    {
     "name": "stdout",
     "output_type": "stream",
     "text": [
      " * sqlite:///eldorado.sqlite\n",
      "Done.\n"
     ]
    },
    {
     "data": {
      "text/html": [
       "<table>\n",
       "    <tr>\n",
       "        <th>cid</th>\n",
       "        <th>name</th>\n",
       "        <th>type</th>\n",
       "        <th>notnull</th>\n",
       "        <th>dflt_value</th>\n",
       "        <th>pk</th>\n",
       "    </tr>\n",
       "    <tr>\n",
       "        <td>0</td>\n",
       "        <td>OBJECTID</td>\n",
       "        <td>INTEGER</td>\n",
       "        <td>0</td>\n",
       "        <td>None</td>\n",
       "        <td>0</td>\n",
       "    </tr>\n",
       "    <tr>\n",
       "        <td>1</td>\n",
       "        <td>FOD_ID</td>\n",
       "        <td>INTEGER</td>\n",
       "        <td>0</td>\n",
       "        <td>None</td>\n",
       "        <td>0</td>\n",
       "    </tr>\n",
       "    <tr>\n",
       "        <td>2</td>\n",
       "        <td>SOURCE_REPORTING_UNIT_NAME</td>\n",
       "        <td>TEXT</td>\n",
       "        <td>0</td>\n",
       "        <td>None</td>\n",
       "        <td>0</td>\n",
       "    </tr>\n",
       "    <tr>\n",
       "        <td>3</td>\n",
       "        <td>FIRE_NAME</td>\n",
       "        <td>TEXT</td>\n",
       "        <td>0</td>\n",
       "        <td>None</td>\n",
       "        <td>0</td>\n",
       "    </tr>\n",
       "    <tr>\n",
       "        <td>4</td>\n",
       "        <td>MTBS_FIRE_NAME</td>\n",
       "        <td>TEXT</td>\n",
       "        <td>0</td>\n",
       "        <td>None</td>\n",
       "        <td>0</td>\n",
       "    </tr>\n",
       "    <tr>\n",
       "        <td>5</td>\n",
       "        <td>COMPLEX_NAME</td>\n",
       "        <td>TEXT</td>\n",
       "        <td>0</td>\n",
       "        <td>None</td>\n",
       "        <td>0</td>\n",
       "    </tr>\n",
       "    <tr>\n",
       "        <td>6</td>\n",
       "        <td>FIRE_YEAR</td>\n",
       "        <td>INTEGER</td>\n",
       "        <td>0</td>\n",
       "        <td>None</td>\n",
       "        <td>0</td>\n",
       "    </tr>\n",
       "    <tr>\n",
       "        <td>7</td>\n",
       "        <td>DISCOVERY_DATE</td>\n",
       "        <td>TEXT</td>\n",
       "        <td>0</td>\n",
       "        <td>None</td>\n",
       "        <td>0</td>\n",
       "    </tr>\n",
       "    <tr>\n",
       "        <td>8</td>\n",
       "        <td>DISCOVERY_DOY</td>\n",
       "        <td>INTEGER</td>\n",
       "        <td>0</td>\n",
       "        <td>None</td>\n",
       "        <td>0</td>\n",
       "    </tr>\n",
       "    <tr>\n",
       "        <td>9</td>\n",
       "        <td>DISCOVERY_TIME</td>\n",
       "        <td>TEXT</td>\n",
       "        <td>0</td>\n",
       "        <td>None</td>\n",
       "        <td>0</td>\n",
       "    </tr>\n",
       "    <tr>\n",
       "        <td>10</td>\n",
       "        <td>NWCG_CAUSE_CLASSIFICATION</td>\n",
       "        <td>TEXT</td>\n",
       "        <td>0</td>\n",
       "        <td>None</td>\n",
       "        <td>0</td>\n",
       "    </tr>\n",
       "    <tr>\n",
       "        <td>11</td>\n",
       "        <td>NWCG_GENERAL_CAUSE</td>\n",
       "        <td>TEXT</td>\n",
       "        <td>0</td>\n",
       "        <td>None</td>\n",
       "        <td>0</td>\n",
       "    </tr>\n",
       "    <tr>\n",
       "        <td>12</td>\n",
       "        <td>NWCG_CAUSE_AGE_CATEGORY</td>\n",
       "        <td>TEXT</td>\n",
       "        <td>0</td>\n",
       "        <td>None</td>\n",
       "        <td>0</td>\n",
       "    </tr>\n",
       "    <tr>\n",
       "        <td>13</td>\n",
       "        <td>CONT_DATE</td>\n",
       "        <td>TEXT</td>\n",
       "        <td>0</td>\n",
       "        <td>None</td>\n",
       "        <td>0</td>\n",
       "    </tr>\n",
       "    <tr>\n",
       "        <td>14</td>\n",
       "        <td>CONT_DOY</td>\n",
       "        <td>TEXT</td>\n",
       "        <td>0</td>\n",
       "        <td>None</td>\n",
       "        <td>0</td>\n",
       "    </tr>\n",
       "    <tr>\n",
       "        <td>15</td>\n",
       "        <td>CONT_TIME</td>\n",
       "        <td>TEXT</td>\n",
       "        <td>0</td>\n",
       "        <td>None</td>\n",
       "        <td>0</td>\n",
       "    </tr>\n",
       "    <tr>\n",
       "        <td>16</td>\n",
       "        <td>FIRE_SIZE</td>\n",
       "        <td>REAL</td>\n",
       "        <td>0</td>\n",
       "        <td>None</td>\n",
       "        <td>0</td>\n",
       "    </tr>\n",
       "    <tr>\n",
       "        <td>17</td>\n",
       "        <td>FIRE_SIZE_CLASS</td>\n",
       "        <td>TEXT</td>\n",
       "        <td>0</td>\n",
       "        <td>None</td>\n",
       "        <td>0</td>\n",
       "    </tr>\n",
       "    <tr>\n",
       "        <td>18</td>\n",
       "        <td>LATITUDE</td>\n",
       "        <td>REAL</td>\n",
       "        <td>0</td>\n",
       "        <td>None</td>\n",
       "        <td>0</td>\n",
       "    </tr>\n",
       "    <tr>\n",
       "        <td>19</td>\n",
       "        <td>LONGITUDE</td>\n",
       "        <td>REAL</td>\n",
       "        <td>0</td>\n",
       "        <td>None</td>\n",
       "        <td>0</td>\n",
       "    </tr>\n",
       "    <tr>\n",
       "        <td>20</td>\n",
       "        <td>OWNER_DESCR</td>\n",
       "        <td>TEXT</td>\n",
       "        <td>0</td>\n",
       "        <td>None</td>\n",
       "        <td>0</td>\n",
       "    </tr>\n",
       "    <tr>\n",
       "        <td>21</td>\n",
       "        <td>STATE</td>\n",
       "        <td>TEXT</td>\n",
       "        <td>0</td>\n",
       "        <td>None</td>\n",
       "        <td>0</td>\n",
       "    </tr>\n",
       "    <tr>\n",
       "        <td>22</td>\n",
       "        <td>COUNTY</td>\n",
       "        <td>TEXT</td>\n",
       "        <td>0</td>\n",
       "        <td>None</td>\n",
       "        <td>0</td>\n",
       "    </tr>\n",
       "    <tr>\n",
       "        <td>23</td>\n",
       "        <td>FIPS_CODE</td>\n",
       "        <td>TEXT</td>\n",
       "        <td>0</td>\n",
       "        <td>None</td>\n",
       "        <td>0</td>\n",
       "    </tr>\n",
       "    <tr>\n",
       "        <td>24</td>\n",
       "        <td>FIPS_NAME</td>\n",
       "        <td>TEXT</td>\n",
       "        <td>0</td>\n",
       "        <td>None</td>\n",
       "        <td>0</td>\n",
       "    </tr>\n",
       "</table>"
      ],
      "text/plain": [
       "[(0, 'OBJECTID', 'INTEGER', 0, None, 0),\n",
       " (1, 'FOD_ID', 'INTEGER', 0, None, 0),\n",
       " (2, 'SOURCE_REPORTING_UNIT_NAME', 'TEXT', 0, None, 0),\n",
       " (3, 'FIRE_NAME', 'TEXT', 0, None, 0),\n",
       " (4, 'MTBS_FIRE_NAME', 'TEXT', 0, None, 0),\n",
       " (5, 'COMPLEX_NAME', 'TEXT', 0, None, 0),\n",
       " (6, 'FIRE_YEAR', 'INTEGER', 0, None, 0),\n",
       " (7, 'DISCOVERY_DATE', 'TEXT', 0, None, 0),\n",
       " (8, 'DISCOVERY_DOY', 'INTEGER', 0, None, 0),\n",
       " (9, 'DISCOVERY_TIME', 'TEXT', 0, None, 0),\n",
       " (10, 'NWCG_CAUSE_CLASSIFICATION', 'TEXT', 0, None, 0),\n",
       " (11, 'NWCG_GENERAL_CAUSE', 'TEXT', 0, None, 0),\n",
       " (12, 'NWCG_CAUSE_AGE_CATEGORY', 'TEXT', 0, None, 0),\n",
       " (13, 'CONT_DATE', 'TEXT', 0, None, 0),\n",
       " (14, 'CONT_DOY', 'TEXT', 0, None, 0),\n",
       " (15, 'CONT_TIME', 'TEXT', 0, None, 0),\n",
       " (16, 'FIRE_SIZE', 'REAL', 0, None, 0),\n",
       " (17, 'FIRE_SIZE_CLASS', 'TEXT', 0, None, 0),\n",
       " (18, 'LATITUDE', 'REAL', 0, None, 0),\n",
       " (19, 'LONGITUDE', 'REAL', 0, None, 0),\n",
       " (20, 'OWNER_DESCR', 'TEXT', 0, None, 0),\n",
       " (21, 'STATE', 'TEXT', 0, None, 0),\n",
       " (22, 'COUNTY', 'TEXT', 0, None, 0),\n",
       " (23, 'FIPS_CODE', 'TEXT', 0, None, 0),\n",
       " (24, 'FIPS_NAME', 'TEXT', 0, None, 0)]"
      ]
     },
     "execution_count": 6,
     "metadata": {},
     "output_type": "execute_result"
    }
   ],
   "source": [
    "%%sql\n",
    "--Get data types of all columns.\n",
    "PRAGMA table_info(fires)"
   ]
  },
  {
   "cell_type": "code",
   "execution_count": 8,
   "id": "d731db7a",
   "metadata": {},
   "outputs": [
    {
     "name": "stdout",
     "output_type": "stream",
     "text": [
      " * sqlite:///eldorado.sqlite\n",
      "Done.\n"
     ]
    },
    {
     "data": {
      "text/html": [
       "<table>\n",
       "    <tr>\n",
       "        <th>FIRE_YEAR</th>\n",
       "        <th>DISCOVERY_DOY</th>\n",
       "        <th>CONT_DATE</th>\n",
       "        <th>CONT_DOY</th>\n",
       "    </tr>\n",
       "    <tr>\n",
       "        <td>2004</td>\n",
       "        <td>133</td>\n",
       "        <td>5/12/2004</td>\n",
       "        <td>133</td>\n",
       "    </tr>\n",
       "    <tr>\n",
       "        <td>2004</td>\n",
       "        <td>152</td>\n",
       "        <td>5/31/2004</td>\n",
       "        <td>152</td>\n",
       "    </tr>\n",
       "    <tr>\n",
       "        <td>2004</td>\n",
       "        <td>180</td>\n",
       "        <td>7/3/2004</td>\n",
       "        <td>185</td>\n",
       "    </tr>\n",
       "    <tr>\n",
       "        <td>2004</td>\n",
       "        <td>180</td>\n",
       "        <td>7/3/2004</td>\n",
       "        <td>185</td>\n",
       "    </tr>\n",
       "    <tr>\n",
       "        <td>2004</td>\n",
       "        <td>182</td>\n",
       "        <td>7/1/2004</td>\n",
       "        <td>183</td>\n",
       "    </tr>\n",
       "</table>"
      ],
      "text/plain": [
       "[(2004, 133, '5/12/2004', '133'),\n",
       " (2004, 152, '5/31/2004', '152'),\n",
       " (2004, 180, '7/3/2004', '185'),\n",
       " (2004, 180, '7/3/2004', '185'),\n",
       " (2004, 182, '7/1/2004', '183')]"
      ]
     },
     "execution_count": 8,
     "metadata": {},
     "output_type": "execute_result"
    }
   ],
   "source": [
    "%%sql\n",
    "--SQLite doesn't have a date type, but I can use the fire year and DOY in combination.\n",
    "--Check out these date formats\n",
    "SELECT FIRE_YEAR, DISCOVERY_DOY, CONT_DATE, CONT_DOY\n",
    "FROM fires\n",
    "LIMIT 5"
   ]
  },
  {
   "cell_type": "code",
   "execution_count": 9,
   "id": "22433755",
   "metadata": {},
   "outputs": [
    {
     "name": "stdout",
     "output_type": "stream",
     "text": [
      " * sqlite:///eldorado.sqlite\n",
      "Done.\n"
     ]
    },
    {
     "data": {
      "text/html": [
       "<table>\n",
       "    <tr>\n",
       "        <th>FIRE_YEAR</th>\n",
       "        <th>MIN(DISCOVERY_DOY)</th>\n",
       "    </tr>\n",
       "    <tr>\n",
       "        <td>1992</td>\n",
       "        <td>35</td>\n",
       "    </tr>\n",
       "    <tr>\n",
       "        <td>1993</td>\n",
       "        <td>95</td>\n",
       "    </tr>\n",
       "    <tr>\n",
       "        <td>1994</td>\n",
       "        <td>2</td>\n",
       "    </tr>\n",
       "    <tr>\n",
       "        <td>1995</td>\n",
       "        <td>51</td>\n",
       "    </tr>\n",
       "    <tr>\n",
       "        <td>1996</td>\n",
       "        <td>104</td>\n",
       "    </tr>\n",
       "    <tr>\n",
       "        <td>1997</td>\n",
       "        <td>54</td>\n",
       "    </tr>\n",
       "    <tr>\n",
       "        <td>1998</td>\n",
       "        <td>158</td>\n",
       "    </tr>\n",
       "    <tr>\n",
       "        <td>1999</td>\n",
       "        <td>7</td>\n",
       "    </tr>\n",
       "    <tr>\n",
       "        <td>2000</td>\n",
       "        <td>81</td>\n",
       "    </tr>\n",
       "    <tr>\n",
       "        <td>2001</td>\n",
       "        <td>81</td>\n",
       "    </tr>\n",
       "    <tr>\n",
       "        <td>2002</td>\n",
       "        <td>97</td>\n",
       "    </tr>\n",
       "    <tr>\n",
       "        <td>2003</td>\n",
       "        <td>65</td>\n",
       "    </tr>\n",
       "    <tr>\n",
       "        <td>2004</td>\n",
       "        <td>74</td>\n",
       "    </tr>\n",
       "    <tr>\n",
       "        <td>2005</td>\n",
       "        <td>72</td>\n",
       "    </tr>\n",
       "    <tr>\n",
       "        <td>2006</td>\n",
       "        <td>135</td>\n",
       "    </tr>\n",
       "    <tr>\n",
       "        <td>2007</td>\n",
       "        <td>93</td>\n",
       "    </tr>\n",
       "    <tr>\n",
       "        <td>2008</td>\n",
       "        <td>104</td>\n",
       "    </tr>\n",
       "    <tr>\n",
       "        <td>2009</td>\n",
       "        <td>20</td>\n",
       "    </tr>\n",
       "    <tr>\n",
       "        <td>2010</td>\n",
       "        <td>17</td>\n",
       "    </tr>\n",
       "    <tr>\n",
       "        <td>2011</td>\n",
       "        <td>175</td>\n",
       "    </tr>\n",
       "    <tr>\n",
       "        <td>2012</td>\n",
       "        <td>4</td>\n",
       "    </tr>\n",
       "    <tr>\n",
       "        <td>2013</td>\n",
       "        <td>18</td>\n",
       "    </tr>\n",
       "    <tr>\n",
       "        <td>2014</td>\n",
       "        <td>5</td>\n",
       "    </tr>\n",
       "    <tr>\n",
       "        <td>2015</td>\n",
       "        <td>3</td>\n",
       "    </tr>\n",
       "    <tr>\n",
       "        <td>2016</td>\n",
       "        <td>45</td>\n",
       "    </tr>\n",
       "    <tr>\n",
       "        <td>2017</td>\n",
       "        <td>122</td>\n",
       "    </tr>\n",
       "    <tr>\n",
       "        <td>2018</td>\n",
       "        <td>15</td>\n",
       "    </tr>\n",
       "    <tr>\n",
       "        <td>2019</td>\n",
       "        <td>114</td>\n",
       "    </tr>\n",
       "    <tr>\n",
       "        <td>2020</td>\n",
       "        <td>45</td>\n",
       "    </tr>\n",
       "</table>"
      ],
      "text/plain": [
       "[(1992, 35),\n",
       " (1993, 95),\n",
       " (1994, 2),\n",
       " (1995, 51),\n",
       " (1996, 104),\n",
       " (1997, 54),\n",
       " (1998, 158),\n",
       " (1999, 7),\n",
       " (2000, 81),\n",
       " (2001, 81),\n",
       " (2002, 97),\n",
       " (2003, 65),\n",
       " (2004, 74),\n",
       " (2005, 72),\n",
       " (2006, 135),\n",
       " (2007, 93),\n",
       " (2008, 104),\n",
       " (2009, 20),\n",
       " (2010, 17),\n",
       " (2011, 175),\n",
       " (2012, 4),\n",
       " (2013, 18),\n",
       " (2014, 5),\n",
       " (2015, 3),\n",
       " (2016, 45),\n",
       " (2017, 122),\n",
       " (2018, 15),\n",
       " (2019, 114),\n",
       " (2020, 45)]"
      ]
     },
     "execution_count": 9,
     "metadata": {},
     "output_type": "execute_result"
    }
   ],
   "source": [
    "%%sql\n",
    "--Find the start day of each year's first fire. \n",
    "SELECT FIRE_YEAR, MIN(DISCOVERY_DOY)\n",
    "FROM fires\n",
    "GROUP BY FIRE_YEAR"
   ]
  },
  {
   "cell_type": "code",
   "execution_count": 14,
   "id": "ee8c5fe3",
   "metadata": {},
   "outputs": [
    {
     "data": {
      "text/html": [
       "<div>\n",
       "<style scoped>\n",
       "    .dataframe tbody tr th:only-of-type {\n",
       "        vertical-align: middle;\n",
       "    }\n",
       "\n",
       "    .dataframe tbody tr th {\n",
       "        vertical-align: top;\n",
       "    }\n",
       "\n",
       "    .dataframe thead th {\n",
       "        text-align: right;\n",
       "    }\n",
       "</style>\n",
       "<table border=\"1\" class=\"dataframe\">\n",
       "  <thead>\n",
       "    <tr style=\"text-align: right;\">\n",
       "      <th></th>\n",
       "      <th>FIRE_YEAR</th>\n",
       "      <th>DISCOVERY_DOY</th>\n",
       "    </tr>\n",
       "  </thead>\n",
       "  <tbody>\n",
       "    <tr>\n",
       "      <th>0</th>\n",
       "      <td>2004</td>\n",
       "      <td>133</td>\n",
       "    </tr>\n",
       "    <tr>\n",
       "      <th>1</th>\n",
       "      <td>2004</td>\n",
       "      <td>152</td>\n",
       "    </tr>\n",
       "    <tr>\n",
       "      <th>2</th>\n",
       "      <td>2004</td>\n",
       "      <td>180</td>\n",
       "    </tr>\n",
       "    <tr>\n",
       "      <th>3</th>\n",
       "      <td>2004</td>\n",
       "      <td>180</td>\n",
       "    </tr>\n",
       "    <tr>\n",
       "      <th>4</th>\n",
       "      <td>2004</td>\n",
       "      <td>182</td>\n",
       "    </tr>\n",
       "  </tbody>\n",
       "</table>\n",
       "</div>"
      ],
      "text/plain": [
       "   FIRE_YEAR  DISCOVERY_DOY\n",
       "0       2004            133\n",
       "1       2004            152\n",
       "2       2004            180\n",
       "3       2004            180\n",
       "4       2004            182"
      ]
     },
     "execution_count": 14,
     "metadata": {},
     "output_type": "execute_result"
    }
   ],
   "source": [
    "# So some fires are starting up even in the middle of winter\n",
    "# To detect if there is a clear fire season \"start\" I'll want a visualization\n",
    "con = sqlite3.connect('eldorado.sqlite')\n",
    "start_days_df = pd.read_sql('SELECT FIRE_YEAR, DISCOVERY_DOY FROM fires', con)\n",
    "start_days_df.head()"
   ]
  },
  {
   "cell_type": "code",
   "execution_count": 16,
   "id": "3849637a",
   "metadata": {},
   "outputs": [
    {
     "data": {
      "text/plain": [
       "<AxesSubplot:xlabel='DISCOVERY_DOY', ylabel='Count'>"
      ]
     },
     "execution_count": 16,
     "metadata": {},
     "output_type": "execute_result"
    },
    {
     "data": {
      "image/png": "[encoded data removed]",
      "text/plain": [
       "<Figure size 640x480 with 1 Axes>"
      ]
     },
     "metadata": {},
     "output_type": "display_data"
    }
   ],
   "source": [
    "# In general, across years, on what days of the year are fires starting?\n",
    "sns.histplot(start_days_df.DISCOVERY_DOY)"
   ]
  },
  {
   "cell_type": "code",
   "execution_count": 27,
   "id": "91e0774e",
   "metadata": {},
   "outputs": [
    {
     "data": {
      "text/plain": [
       "<AxesSubplot:xlabel='DISCOVERY_DOY', ylabel='Probability'>"
      ]
     },
     "execution_count": 27,
     "metadata": {},
     "output_type": "execute_result"
    },
    {
     "data": {
      "image/png": "[encoded data removed]",
      "text/plain": [
       "<Figure size 640x480 with 1 Axes>"
      ]
     },
     "metadata": {},
     "output_type": "display_data"
    }
   ],
   "source": [
    "# Start visualizing whether there is any change across years.\n",
    "# Compare distribution of 1997 & 1997\n",
    "sns.histplot(start_days_df.DISCOVERY_DOY[start_days_df.FIRE_YEAR==1992], \n",
    "             stat='probability', color='red', alpha=0.3, bins=52)\n",
    "sns.histplot(start_days_df.DISCOVERY_DOY[start_days_df.FIRE_YEAR==1997], \n",
    "             stat='probability', color='green', alpha=0.3, bins=52)"
   ]
  },
  {
   "cell_type": "code",
   "execution_count": 28,
   "id": "c7c7f17e",
   "metadata": {},
   "outputs": [
    {
     "data": {
      "text/plain": [
       "<AxesSubplot:xlabel='DISCOVERY_DOY', ylabel='Probability'>"
      ]
     },
     "execution_count": 28,
     "metadata": {},
     "output_type": "execute_result"
    },
    {
     "data": {
      "image/png": "[encoded data removed]",
      "text/plain": [
       "<Figure size 640x480 with 1 Axes>"
      ]
     },
     "metadata": {},
     "output_type": "display_data"
    }
   ],
   "source": [
    "# 1997 & 2002\n",
    "sns.histplot(start_days_df.DISCOVERY_DOY[start_days_df.FIRE_YEAR==1997], \n",
    "             stat='probability', color='green', alpha=0.3, bins=52)\n",
    "sns.histplot(start_days_df.DISCOVERY_DOY[start_days_df.FIRE_YEAR==2002], \n",
    "             stat='probability', color='blue', alpha=0.3, bins=52)"
   ]
  },
  {
   "cell_type": "code",
   "execution_count": 29,
   "id": "ad3037ef",
   "metadata": {},
   "outputs": [
    {
     "data": {
      "text/plain": [
       "<AxesSubplot:xlabel='DISCOVERY_DOY', ylabel='Probability'>"
      ]
     },
     "execution_count": 29,
     "metadata": {},
     "output_type": "execute_result"
    },
    {
     "data": {
      "image/png": "[encoded data removed]",
      "text/plain": [
       "<Figure size 640x480 with 1 Axes>"
      ]
     },
     "metadata": {},
     "output_type": "display_data"
    }
   ],
   "source": [
    "# 2002 & 2005\n",
    "sns.histplot(start_days_df.DISCOVERY_DOY[start_days_df.FIRE_YEAR==2002], \n",
    "             stat='probability', color='blue', alpha=0.3, bins=52)\n",
    "sns.histplot(start_days_df.DISCOVERY_DOY[start_days_df.FIRE_YEAR==2007], \n",
    "             stat='probability', color='orange', alpha=0.3, bins=52)"
   ]
  },
  {
   "cell_type": "code",
   "execution_count": 32,
   "id": "4097923c",
   "metadata": {},
   "outputs": [
    {
     "data": {
      "text/plain": [
       "<AxesSubplot:xlabel='DISCOVERY_DOY', ylabel='Probability'>"
      ]
     },
     "execution_count": 32,
     "metadata": {},
     "output_type": "execute_result"
    },
    {
     "data": {
      "image/png": "[encoded data removed]",
      "text/plain": [
       "<Figure size 640x480 with 1 Axes>"
      ]
     },
     "metadata": {},
     "output_type": "display_data"
    }
   ],
   "source": [
    "# 2005 & 2012\n",
    "sns.histplot(start_days_df.DISCOVERY_DOY[start_days_df.FIRE_YEAR==2005], \n",
    "             stat='probability', color='orange', alpha=0.3, bins=52)\n",
    "sns.histplot(start_days_df.DISCOVERY_DOY[start_days_df.FIRE_YEAR==2012], \n",
    "             stat='probability', color='violet', alpha=0.3, bins=52)"
   ]
  },
  {
   "cell_type": "code",
   "execution_count": 33,
   "id": "38d0cdcf",
   "metadata": {},
   "outputs": [
    {
     "data": {
      "text/plain": [
       "<AxesSubplot:xlabel='DISCOVERY_DOY', ylabel='Probability'>"
      ]
     },
     "execution_count": 33,
     "metadata": {},
     "output_type": "execute_result"
    },
    {
     "data": {
      "image/png": "[encoded data removed]",
      "text/plain": [
       "<Figure size 640x480 with 1 Axes>"
      ]
     },
     "metadata": {},
     "output_type": "display_data"
    }
   ],
   "source": [
    "# 2012 & 2019\n",
    "sns.histplot(start_days_df.DISCOVERY_DOY[start_days_df.FIRE_YEAR==2012], \n",
    "             stat='probability', color='violet', alpha=0.3, bins=52)\n",
    "sns.histplot(start_days_df.DISCOVERY_DOY[start_days_df.FIRE_YEAR==2019], \n",
    "             stat='probability', color='teal', alpha=0.3, bins=52)"
   ]
  },
  {
   "cell_type": "markdown",
   "id": "e636a5b0",
   "metadata": {},
   "source": [
    "It's not super obvious whether there are trends over time in when most fires are breaking out. Most years have a point in time when fires start escalating, then a big spike or two in outbreaks. That spike doesn't on first glance seem to be moving in one \"direction\" across time. \n",
    "\n",
    "One idea could be to indicate the bounds of fire \"season\" by indicating the date on which n% of fires have happened. N could be something between 5 & 25. What value of n might make sense?"
   ]
  },
  {
   "cell_type": "code",
   "execution_count": 40,
   "id": "884b794c",
   "metadata": {},
   "outputs": [
    {
     "data": {
      "text/plain": [
       "<matplotlib.lines.Line2D at 0x7fafad4e16a0>"
      ]
     },
     "execution_count": 40,
     "metadata": {},
     "output_type": "execute_result"
    },
    {
     "data": {
      "image/png": "[encoded data removed]",
      "text/plain": [
       "<Figure size 640x480 with 1 Axes>"
      ]
     },
     "metadata": {},
     "output_type": "display_data"
    }
   ],
   "source": [
    "# Plot all years together again, this time adding bars for percentiles. \n",
    "sns.histplot(start_days_df.DISCOVERY_DOY)\n",
    "plt.axvline(start_days_df.DISCOVERY_DOY.quantile(0.05))\n",
    "plt.axvline(start_days_df.DISCOVERY_DOY.quantile(0.1))\n",
    "plt.axvline(start_days_df.DISCOVERY_DOY.quantile(0.15))\n",
    "plt.axvline(start_days_df.DISCOVERY_DOY.quantile(0.2))\n",
    "plt.axvline(start_days_df.DISCOVERY_DOY.quantile(0.25))"
   ]
  },
  {
   "cell_type": "markdown",
   "id": "43d146d0",
   "metadata": {},
   "source": [
    "The amount of fires seems to quickly escalate once 10-15% of fires for the year have occurred. There is just over a week between the point when 10% of fires occur and it takes just under a week for 5% more to occur. Perhaps a column for ten_percent/ season_start could be added as a way to measure fire seasonality. Along with a column for average or median for a season \"peak.\" "
   ]
  },
  {
   "cell_type": "code",
   "execution_count": 41,
   "id": "7f5d2958",
   "metadata": {},
   "outputs": [
    {
     "data": {
      "text/plain": [
       "<matplotlib.lines.Line2D at 0x7fafad4d92b0>"
      ]
     },
     "execution_count": 41,
     "metadata": {},
     "output_type": "execute_result"
    },
    {
     "data": {
      "image/png": "[encoded data removed]",
      "text/plain": [
       "<Figure size 640x480 with 1 Axes>"
      ]
     },
     "metadata": {},
     "output_type": "display_data"
    }
   ],
   "source": [
    "# Would a mean or median make more sense?\n",
    "sns.histplot(start_days_df.DISCOVERY_DOY)\n",
    "plt.axvline(start_days_df.DISCOVERY_DOY.quantile(0.5), color='red')\n",
    "plt.axvline(start_days_df.DISCOVERY_DOY.mean(), color='green')"
   ]
  },
  {
   "cell_type": "markdown",
   "id": "2523e2ed",
   "metadata": {},
   "source": [
    "There is hardly any difference between mean and median. For the purpose of consistency with considering the 10th percentil, go with median. \n",
    "\n",
    "As an alternative approach to simply measuring the 10th% of fire start dates, we could consider the distribution only of relatively intense fires. "
   ]
  },
  {
   "cell_type": "code",
   "execution_count": 47,
   "id": "fc3f5240",
   "metadata": {},
   "outputs": [
    {
     "name": "stdout",
     "output_type": "stream",
     "text": [
      " * sqlite:///eldorado.sqlite\n",
      "Done.\n"
     ]
    },
    {
     "data": {
      "text/html": [
       "<table>\n",
       "    <tr>\n",
       "        <th>MIN(FIRE_SIZE)</th>\n",
       "        <th>MAX(FIRE_SIZE)</th>\n",
       "        <th>COUNT(DISTINCT(FIRE_SIZE))</th>\n",
       "    </tr>\n",
       "    <tr>\n",
       "        <td>0.01</td>\n",
       "        <td>97717.0</td>\n",
       "        <td>130</td>\n",
       "    </tr>\n",
       "</table>"
      ],
      "text/plain": [
       "[(0.01, 97717.0, 130)]"
      ]
     },
     "execution_count": 47,
     "metadata": {},
     "output_type": "execute_result"
    }
   ],
   "source": [
    "%%sql\n",
    "SELECT MIN(FIRE_SIZE), MAX(FIRE_SIZE), COUNT(DISTINCT(FIRE_SIZE))\n",
    "FROM fires;"
   ]
  },
  {
   "cell_type": "code",
   "execution_count": 45,
   "id": "ce5de09d",
   "metadata": {},
   "outputs": [
    {
     "name": "stdout",
     "output_type": "stream",
     "text": [
      " * sqlite:///eldorado.sqlite\n",
      "Done.\n"
     ]
    },
    {
     "data": {
      "text/html": [
       "<table>\n",
       "    <tr>\n",
       "        <th>FIRE_SIZE_CLASS</th>\n",
       "    </tr>\n",
       "    <tr>\n",
       "        <td>A</td>\n",
       "    </tr>\n",
       "    <tr>\n",
       "        <td>B</td>\n",
       "    </tr>\n",
       "    <tr>\n",
       "        <td>G</td>\n",
       "    </tr>\n",
       "    <tr>\n",
       "        <td>C</td>\n",
       "    </tr>\n",
       "    <tr>\n",
       "        <td>D</td>\n",
       "    </tr>\n",
       "    <tr>\n",
       "        <td>E</td>\n",
       "    </tr>\n",
       "    <tr>\n",
       "        <td>F</td>\n",
       "    </tr>\n",
       "</table>"
      ],
      "text/plain": [
       "[('A',), ('B',), ('G',), ('C',), ('D',), ('E',), ('F',)]"
      ]
     },
     "execution_count": 45,
     "metadata": {},
     "output_type": "execute_result"
    }
   ],
   "source": [
    "%%sql\n",
    "SELECT DISTINCT(FIRE_SIZE_CLASS)\n",
    "FROM fires;"
   ]
  },
  {
   "cell_type": "code",
   "execution_count": 50,
   "id": "0d266fa5",
   "metadata": {},
   "outputs": [
    {
     "data": {
      "text/html": [
       "<div>\n",
       "<style scoped>\n",
       "    .dataframe tbody tr th:only-of-type {\n",
       "        vertical-align: middle;\n",
       "    }\n",
       "\n",
       "    .dataframe tbody tr th {\n",
       "        vertical-align: top;\n",
       "    }\n",
       "\n",
       "    .dataframe thead th {\n",
       "        text-align: right;\n",
       "    }\n",
       "</style>\n",
       "<table border=\"1\" class=\"dataframe\">\n",
       "  <thead>\n",
       "    <tr style=\"text-align: right;\">\n",
       "      <th></th>\n",
       "      <th>DISCOVERY_DOY</th>\n",
       "      <th>FIRE_SIZE_CLASS</th>\n",
       "    </tr>\n",
       "  </thead>\n",
       "  <tbody>\n",
       "    <tr>\n",
       "      <th>0</th>\n",
       "      <td>133</td>\n",
       "      <td>A</td>\n",
       "    </tr>\n",
       "    <tr>\n",
       "      <th>1</th>\n",
       "      <td>152</td>\n",
       "      <td>A</td>\n",
       "    </tr>\n",
       "    <tr>\n",
       "      <th>2</th>\n",
       "      <td>180</td>\n",
       "      <td>A</td>\n",
       "    </tr>\n",
       "    <tr>\n",
       "      <th>3</th>\n",
       "      <td>180</td>\n",
       "      <td>A</td>\n",
       "    </tr>\n",
       "    <tr>\n",
       "      <th>4</th>\n",
       "      <td>182</td>\n",
       "      <td>A</td>\n",
       "    </tr>\n",
       "  </tbody>\n",
       "</table>\n",
       "</div>"
      ],
      "text/plain": [
       "   DISCOVERY_DOY FIRE_SIZE_CLASS\n",
       "0            133               A\n",
       "1            152               A\n",
       "2            180               A\n",
       "3            180               A\n",
       "4            182               A"
      ]
     },
     "execution_count": 50,
     "metadata": {},
     "output_type": "execute_result"
    }
   ],
   "source": [
    "doy_size_df = pd.read_sql('SELECT DISCOVERY_DOY, FIRE_SIZE_CLASS FROM fires', con)\n",
    "doy_size_df.head()"
   ]
  },
  {
   "cell_type": "code",
   "execution_count": 55,
   "id": "20937168",
   "metadata": {},
   "outputs": [
    {
     "data": {
      "text/plain": [
       "<AxesSubplot:xlabel='DISCOVERY_DOY', ylabel='Probability'>"
      ]
     },
     "execution_count": 55,
     "metadata": {},
     "output_type": "execute_result"
    },
    {
     "data": {
      "image/png": "[encoded data removed]",
      "text/plain": [
       "<Figure size 640x480 with 1 Axes>"
      ]
     },
     "metadata": {},
     "output_type": "display_data"
    }
   ],
   "source": [
    "# Visualize side by side distribution separated by fire size\n",
    "\n",
    "# Start with fire size A & C\n",
    "sns.histplot(doy_size_df.DISCOVERY_DOY[doy_size_df.FIRE_SIZE_CLASS=='A'], \n",
    "             stat='probability', color='red', alpha=0.3, bins=52)\n",
    "sns.histplot(doy_size_df.DISCOVERY_DOY[doy_size_df.FIRE_SIZE_CLASS=='C'], \n",
    "             stat='probability', color='green', alpha=0.3, bins=52)"
   ]
  },
  {
   "cell_type": "code",
   "execution_count": 56,
   "id": "26342f77",
   "metadata": {},
   "outputs": [
    {
     "data": {
      "text/plain": [
       "<AxesSubplot:xlabel='DISCOVERY_DOY', ylabel='Probability'>"
      ]
     },
     "execution_count": 56,
     "metadata": {},
     "output_type": "execute_result"
    },
    {
     "data": {
      "image/png": "[encoded data removed]",
      "text/plain": [
       "<Figure size 640x480 with 1 Axes>"
      ]
     },
     "metadata": {},
     "output_type": "display_data"
    }
   ],
   "source": [
    "# C & E\n",
    "sns.histplot(doy_size_df.DISCOVERY_DOY[doy_size_df.FIRE_SIZE_CLASS=='C'], \n",
    "             stat='probability', color='green', alpha=0.3, bins=52)\n",
    "sns.histplot(doy_size_df.DISCOVERY_DOY[doy_size_df.FIRE_SIZE_CLASS=='E'], \n",
    "             stat='probability', color='blue', alpha=0.3, bins=52)"
   ]
  },
  {
   "cell_type": "code",
   "execution_count": 57,
   "id": "5ddeb09b",
   "metadata": {},
   "outputs": [
    {
     "data": {
      "text/plain": [
       "<AxesSubplot:xlabel='DISCOVERY_DOY', ylabel='Probability'>"
      ]
     },
     "execution_count": 57,
     "metadata": {},
     "output_type": "execute_result"
    },
    {
     "data": {
      "image/png": "[encoded data removed]",
      "text/plain": [
       "<Figure size 640x480 with 1 Axes>"
      ]
     },
     "metadata": {},
     "output_type": "display_data"
    }
   ],
   "source": [
    "# D & F\n",
    "sns.histplot(doy_size_df.DISCOVERY_DOY[doy_size_df.FIRE_SIZE_CLASS=='D'], \n",
    "             stat='probability', color='violet', alpha=0.3, bins=52)\n",
    "sns.histplot(doy_size_df.DISCOVERY_DOY[doy_size_df.FIRE_SIZE_CLASS=='F'], \n",
    "             stat='probability', color='orange', alpha=0.3, bins=52)"
   ]
  },
  {
   "cell_type": "markdown",
   "id": "bb3e88fd",
   "metadata": {},
   "source": [
    "Bigger fires are fewer and further between. Fires in classes A-D seem to happen more so throughout the year, but fires in classes E & F are limited to later in the year. \n",
    "\n",
    "One option could be to mark the date of the first class E or F fire each year as an important point in the fire season. \n",
    "\n",
    "Work in SQL now to engineer these features: 10th%ile date, first class E or F date, and median/peak date for each year. "
   ]
  },
  {
   "cell_type": "code",
   "execution_count": null,
   "id": "7974d77f",
   "metadata": {},
   "outputs": [],
   "source": [
    "%%sql"
   ]
  }
 ],
 "metadata": {
  "kernelspec": {
   "display_name": "Python 3 (ipykernel)",
   "language": "python",
   "name": "python3"
  },
  "language_info": {
   "codemirror_mode": {
    "name": "ipython",
    "version": 3
   },
   "file_extension": ".py",
   "mimetype": "text/x-python",
   "name": "python",
   "nbconvert_exporter": "python",
   "pygments_lexer": "ipython3",
   "version": "3.9.12"
  }
 },
 "nbformat": 4,
 "nbformat_minor": 5
}
