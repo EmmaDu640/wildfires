{
 "cells": [
  {
   "cell_type": "markdown",
   "id": "ad5e2ea9",
   "metadata": {},
   "source": [
    "# <font color='violet'> Data Wrangling\n",
    " \n",
    "Here, I'll use SQL to do initial exploration and cleaning of data from Fires, which is the only table in the database wildfire.sqlite"
   ]
  },
  {
   "cell_type": "code",
   "execution_count": 1,
   "id": "0afcbdb1",
   "metadata": {},
   "outputs": [],
   "source": [
    "# ! pip install ipython-sql"
   ]
  },
  {
   "cell_type": "code",
   "execution_count": 2,
   "id": "75d49d5f",
   "metadata": {},
   "outputs": [],
   "source": [
    "# Prepare to access the database\n",
    "%load_ext sql"
   ]
  },
  {
   "cell_type": "code",
   "execution_count": 3,
   "id": "0896efe8",
   "metadata": {},
   "outputs": [],
   "source": [
    "%sql sqlite:///wildfire.sqlite"
   ]
  },
  {
   "cell_type": "code",
   "execution_count": 4,
   "id": "6991cafe",
   "metadata": {},
   "outputs": [
    {
     "name": "stdout",
     "output_type": "stream",
     "text": [
      " * sqlite:///wildfire.sqlite\n",
      "Done.\n"
     ]
    },
    {
     "data": {
      "text/html": [
       "<table>\n",
       "    <tr>\n",
       "        <th>OBJECTID</th>\n",
       "        <th>Shape</th>\n",
       "        <th>FOD_ID</th>\n",
       "        <th>FPA_ID</th>\n",
       "        <th>SOURCE_SYSTEM_TYPE</th>\n",
       "        <th>SOURCE_SYSTEM</th>\n",
       "        <th>NWCG_REPORTING_AGENCY</th>\n",
       "        <th>NWCG_REPORTING_UNIT_ID</th>\n",
       "        <th>NWCG_REPORTING_UNIT_NAME</th>\n",
       "        <th>SOURCE_REPORTING_UNIT</th>\n",
       "        <th>SOURCE_REPORTING_UNIT_NAME</th>\n",
       "        <th>LOCAL_FIRE_REPORT_ID</th>\n",
       "        <th>LOCAL_INCIDENT_ID</th>\n",
       "        <th>FIRE_CODE</th>\n",
       "        <th>FIRE_NAME</th>\n",
       "        <th>ICS_209_PLUS_INCIDENT_JOIN_ID</th>\n",
       "        <th>ICS_209_PLUS_COMPLEX_JOIN_ID</th>\n",
       "        <th>MTBS_ID</th>\n",
       "        <th>MTBS_FIRE_NAME</th>\n",
       "        <th>COMPLEX_NAME</th>\n",
       "        <th>FIRE_YEAR</th>\n",
       "        <th>DISCOVERY_DATE</th>\n",
       "        <th>DISCOVERY_DOY</th>\n",
       "        <th>DISCOVERY_TIME</th>\n",
       "        <th>NWCG_CAUSE_CLASSIFICATION</th>\n",
       "        <th>NWCG_GENERAL_CAUSE</th>\n",
       "        <th>NWCG_CAUSE_AGE_CATEGORY</th>\n",
       "        <th>CONT_DATE</th>\n",
       "        <th>CONT_DOY</th>\n",
       "        <th>CONT_TIME</th>\n",
       "        <th>FIRE_SIZE</th>\n",
       "        <th>FIRE_SIZE_CLASS</th>\n",
       "        <th>LATITUDE</th>\n",
       "        <th>LONGITUDE</th>\n",
       "        <th>OWNER_DESCR</th>\n",
       "        <th>STATE</th>\n",
       "        <th>COUNTY</th>\n",
       "        <th>FIPS_CODE</th>\n",
       "        <th>FIPS_NAME</th>\n",
       "    </tr>\n",
       "    <tr>\n",
       "        <td>1</td>\n",
       "        <td>b&#x27;\\x00\\x01\\xad\\x10\\x00\\x00\\xc8\\xce\\n[_@^\\xc0\\xe8C|l\\xba\\x04D@\\xc8\\xce\\n[_@^\\xc0\\xe8C|l\\xba\\x04D@|\\x01\\x00\\x00\\x00\\xc8\\xce\\n[_@^\\xc0\\xe8C|l\\xba\\x04D@\\xfe&#x27;</td>\n",
       "        <td>1</td>\n",
       "        <td>FS-1418826</td>\n",
       "        <td>FED</td>\n",
       "        <td>FS-FIRESTAT</td>\n",
       "        <td>FS</td>\n",
       "        <td>USCAPNF</td>\n",
       "        <td>Plumas National Forest</td>\n",
       "        <td>0511</td>\n",
       "        <td>Plumas National Forest</td>\n",
       "        <td>1</td>\n",
       "        <td>PNF-47</td>\n",
       "        <td>BJ8K</td>\n",
       "        <td>FOUNTAIN</td>\n",
       "        <td></td>\n",
       "        <td></td>\n",
       "        <td></td>\n",
       "        <td></td>\n",
       "        <td></td>\n",
       "        <td>2005</td>\n",
       "        <td>2/2/2005</td>\n",
       "        <td>33</td>\n",
       "        <td>1300</td>\n",
       "        <td>Human</td>\n",
       "        <td>Power generation/transmission/distribution</td>\n",
       "        <td></td>\n",
       "        <td>2/2/2005</td>\n",
       "        <td>33</td>\n",
       "        <td>1730</td>\n",
       "        <td>0.1</td>\n",
       "        <td>A</td>\n",
       "        <td>40.03694444</td>\n",
       "        <td>-121.00583333</td>\n",
       "        <td>USFS</td>\n",
       "        <td>CA</td>\n",
       "        <td>63</td>\n",
       "        <td>06063</td>\n",
       "        <td>Plumas County</td>\n",
       "    </tr>\n",
       "    <tr>\n",
       "        <td>2</td>\n",
       "        <td>b&#x27;\\x00\\x01\\xad\\x10\\x00\\x00\\xc8\\xe594\\xe2\\x19^\\xc0\\xa0\\xe4\\xc51nwC@\\xc8\\xe594\\xe2\\x19^\\xc0\\xa0\\xe4\\xc51nwC@|\\x01\\x00\\x00\\x00\\xc8\\xe594\\xe2\\x19^\\xc0\\xa0\\xe4\\xc51nwC@\\xfe&#x27;</td>\n",
       "        <td>2</td>\n",
       "        <td>FS-1418827</td>\n",
       "        <td>FED</td>\n",
       "        <td>FS-FIRESTAT</td>\n",
       "        <td>FS</td>\n",
       "        <td>USCAENF</td>\n",
       "        <td>Eldorado National Forest</td>\n",
       "        <td>0503</td>\n",
       "        <td>Eldorado National Forest</td>\n",
       "        <td>13</td>\n",
       "        <td>13</td>\n",
       "        <td>AAC0</td>\n",
       "        <td>PIGEON</td>\n",
       "        <td></td>\n",
       "        <td></td>\n",
       "        <td></td>\n",
       "        <td></td>\n",
       "        <td></td>\n",
       "        <td>2004</td>\n",
       "        <td>5/12/2004</td>\n",
       "        <td>133</td>\n",
       "        <td>0845</td>\n",
       "        <td>Natural</td>\n",
       "        <td>Natural</td>\n",
       "        <td></td>\n",
       "        <td>5/12/2004</td>\n",
       "        <td>133</td>\n",
       "        <td>1530</td>\n",
       "        <td>0.25</td>\n",
       "        <td>A</td>\n",
       "        <td>38.93305556</td>\n",
       "        <td>-120.40444444</td>\n",
       "        <td>USFS</td>\n",
       "        <td>CA</td>\n",
       "        <td>61</td>\n",
       "        <td>06061</td>\n",
       "        <td>Placer County</td>\n",
       "    </tr>\n",
       "    <tr>\n",
       "        <td>3</td>\n",
       "        <td>b&#x27;\\x00\\x01\\xad\\x10\\x00\\x00x{\\xac \\x13/^\\xc0@\\xf2\\x03\\x01\\xf9}C@x{\\xac \\x13/^\\xc0@\\xf2\\x03\\x01\\xf9}C@|\\x01\\x00\\x00\\x00x{\\xac \\x13/^\\xc0@\\xf2\\x03\\x01\\xf9}C@\\xfe&#x27;</td>\n",
       "        <td>3</td>\n",
       "        <td>FS-1418835</td>\n",
       "        <td>FED</td>\n",
       "        <td>FS-FIRESTAT</td>\n",
       "        <td>FS</td>\n",
       "        <td>USCAENF</td>\n",
       "        <td>Eldorado National Forest</td>\n",
       "        <td>0503</td>\n",
       "        <td>Eldorado National Forest</td>\n",
       "        <td>27</td>\n",
       "        <td>021</td>\n",
       "        <td>A32W</td>\n",
       "        <td>SLACK</td>\n",
       "        <td></td>\n",
       "        <td></td>\n",
       "        <td></td>\n",
       "        <td></td>\n",
       "        <td></td>\n",
       "        <td>2004</td>\n",
       "        <td>5/31/2004</td>\n",
       "        <td>152</td>\n",
       "        <td>1921</td>\n",
       "        <td>Human</td>\n",
       "        <td>Debris and open burning</td>\n",
       "        <td></td>\n",
       "        <td>5/31/2004</td>\n",
       "        <td>152</td>\n",
       "        <td>2024</td>\n",
       "        <td>0.1</td>\n",
       "        <td>A</td>\n",
       "        <td>38.98416667</td>\n",
       "        <td>-120.73555556</td>\n",
       "        <td>STATE OR PRIVATE</td>\n",
       "        <td>CA</td>\n",
       "        <td>17</td>\n",
       "        <td>06017</td>\n",
       "        <td>El Dorado County</td>\n",
       "    </tr>\n",
       "    <tr>\n",
       "        <td>4</td>\n",
       "        <td>b&#x27;\\x00\\x01\\xad\\x10\\x00\\x00\\xc8\\x13u\\xd7s\\xfa]\\xc0\\xf8\\xdbg\\x9a\\x92GC@\\xc8\\x13u\\xd7s\\xfa]\\xc0\\xf8\\xdbg\\x9a\\x92GC@|\\x01\\x00\\x00\\x00\\xc8\\x13u\\xd7s\\xfa]\\xc0\\xf8\\xdbg\\x9a\\x92GC@\\xfe&#x27;</td>\n",
       "        <td>4</td>\n",
       "        <td>FS-1418845</td>\n",
       "        <td>FED</td>\n",
       "        <td>FS-FIRESTAT</td>\n",
       "        <td>FS</td>\n",
       "        <td>USCAENF</td>\n",
       "        <td>Eldorado National Forest</td>\n",
       "        <td>0503</td>\n",
       "        <td>Eldorado National Forest</td>\n",
       "        <td>43</td>\n",
       "        <td>6</td>\n",
       "        <td></td>\n",
       "        <td>DEER</td>\n",
       "        <td></td>\n",
       "        <td></td>\n",
       "        <td></td>\n",
       "        <td></td>\n",
       "        <td></td>\n",
       "        <td>2004</td>\n",
       "        <td>6/28/2004</td>\n",
       "        <td>180</td>\n",
       "        <td>1600</td>\n",
       "        <td>Natural</td>\n",
       "        <td>Natural</td>\n",
       "        <td></td>\n",
       "        <td>7/3/2004</td>\n",
       "        <td>185</td>\n",
       "        <td>1400</td>\n",
       "        <td>0.1</td>\n",
       "        <td>A</td>\n",
       "        <td>38.55916667</td>\n",
       "        <td>-119.91333333</td>\n",
       "        <td>USFS</td>\n",
       "        <td>CA</td>\n",
       "        <td>3</td>\n",
       "        <td>06003</td>\n",
       "        <td>Alpine County</td>\n",
       "    </tr>\n",
       "    <tr>\n",
       "        <td>5</td>\n",
       "        <td>b&#x27;\\x00\\x01\\xad\\x10\\x00\\x00\\xd0\\x11y\\xf8\\xb6\\xfb]\\xc0\\xb8\\x01j\\x9a\\x92GC@\\xd0\\x11y\\xf8\\xb6\\xfb]\\xc0\\xb8\\x01j\\x9a\\x92GC@|\\x01\\x00\\x00\\x00\\xd0\\x11y\\xf8\\xb6\\xfb]\\xc0\\xb8\\x01j\\x9a\\x92GC@\\xfe&#x27;</td>\n",
       "        <td>5</td>\n",
       "        <td>FS-1418847</td>\n",
       "        <td>FED</td>\n",
       "        <td>FS-FIRESTAT</td>\n",
       "        <td>FS</td>\n",
       "        <td>USCAENF</td>\n",
       "        <td>Eldorado National Forest</td>\n",
       "        <td>0503</td>\n",
       "        <td>Eldorado National Forest</td>\n",
       "        <td>44</td>\n",
       "        <td>7</td>\n",
       "        <td></td>\n",
       "        <td>STEVENOT</td>\n",
       "        <td></td>\n",
       "        <td></td>\n",
       "        <td></td>\n",
       "        <td></td>\n",
       "        <td></td>\n",
       "        <td>2004</td>\n",
       "        <td>6/28/2004</td>\n",
       "        <td>180</td>\n",
       "        <td>1600</td>\n",
       "        <td>Natural</td>\n",
       "        <td>Natural</td>\n",
       "        <td></td>\n",
       "        <td>7/3/2004</td>\n",
       "        <td>185</td>\n",
       "        <td>1200</td>\n",
       "        <td>0.1</td>\n",
       "        <td>A</td>\n",
       "        <td>38.55916667</td>\n",
       "        <td>-119.93305556</td>\n",
       "        <td>USFS</td>\n",
       "        <td>CA</td>\n",
       "        <td>3</td>\n",
       "        <td>06003</td>\n",
       "        <td>Alpine County</td>\n",
       "    </tr>\n",
       "</table>"
      ],
      "text/plain": [
       "[(1, \"b'\\\\x00\\\\x01\\\\xad\\\\x10\\\\x00\\\\x00\\\\xc8\\\\xce\\\\n[_@^\\\\xc0\\\\xe8C|l\\\\xba\\\\x04D@\\\\xc8\\\\xce\\\\n[_@^\\\\xc0\\\\xe8C|l\\\\xba\\\\x04D@|\\\\x01\\\\x00\\\\x00\\\\x00\\\\xc8\\\\xce\\\\n[_@^\\\\xc0\\\\xe8C|l\\\\xba\\\\x04D@\\\\xfe'\", 1, 'FS-1418826', 'FED', 'FS-FIRESTAT', 'FS', 'USCAPNF', 'Plumas National Forest', '0511', 'Plumas National Forest', '1', 'PNF-47', 'BJ8K', 'FOUNTAIN', '', '', '', '', '', 2005, '2/2/2005', 33, '1300', 'Human', 'Power generation/transmission/distribution', '', '2/2/2005', '33', '1730', 0.1, 'A', 40.03694444, -121.00583333, 'USFS', 'CA', '63', '06063', 'Plumas County'),\n",
       " (2, \"b'\\\\x00\\\\x01\\\\xad\\\\x10\\\\x00\\\\x00\\\\xc8\\\\xe594\\\\xe2\\\\x19^\\\\xc0\\\\xa0\\\\xe4\\\\xc51nwC@\\\\xc8\\\\xe594\\\\xe2\\\\x19^\\\\xc0\\\\xa0\\\\xe4\\\\xc51nwC@|\\\\x01\\\\x00\\\\x00\\\\x00\\\\xc8\\\\xe594\\\\xe2\\\\x19^\\\\xc0\\\\xa0\\\\xe4\\\\xc51nwC@\\\\xfe'\", 2, 'FS-1418827', 'FED', 'FS-FIRESTAT', 'FS', 'USCAENF', 'Eldorado National Forest', '0503', 'Eldorado National Forest', '13', '13', 'AAC0', 'PIGEON', '', '', '', '', '', 2004, '5/12/2004', 133, '0845', 'Natural', 'Natural', '', '5/12/2004', '133', '1530', 0.25, 'A', 38.93305556, -120.40444444, 'USFS', 'CA', '61', '06061', 'Placer County'),\n",
       " (3, \"b'\\\\x00\\\\x01\\\\xad\\\\x10\\\\x00\\\\x00x{\\\\xac \\\\x13/^\\\\xc0@\\\\xf2\\\\x03\\\\x01\\\\xf9}C@x{\\\\xac \\\\x13/^\\\\xc0@\\\\xf2\\\\x03\\\\x01\\\\xf9}C@|\\\\x01\\\\x00\\\\x00\\\\x00x{\\\\xac \\\\x13/^\\\\xc0@\\\\xf2\\\\x03\\\\x01\\\\xf9}C@\\\\xfe'\", 3, 'FS-1418835', 'FED', 'FS-FIRESTAT', 'FS', 'USCAENF', 'Eldorado National Forest', '0503', 'Eldorado National Forest', '27', '021', 'A32W', 'SLACK', '', '', '', '', '', 2004, '5/31/2004', 152, '1921', 'Human', 'Debris and open burning', '', '5/31/2004', '152', '2024', 0.1, 'A', 38.98416667, -120.73555556, 'STATE OR PRIVATE', 'CA', '17', '06017', 'El Dorado County'),\n",
       " (4, \"b'\\\\x00\\\\x01\\\\xad\\\\x10\\\\x00\\\\x00\\\\xc8\\\\x13u\\\\xd7s\\\\xfa]\\\\xc0\\\\xf8\\\\xdbg\\\\x9a\\\\x92GC@\\\\xc8\\\\x13u\\\\xd7s\\\\xfa]\\\\xc0\\\\xf8\\\\xdbg\\\\x9a\\\\x92GC@|\\\\x01\\\\x00\\\\x00\\\\x00\\\\xc8\\\\x13u\\\\xd7s\\\\xfa]\\\\xc0\\\\xf8\\\\xdbg\\\\x9a\\\\x92GC@\\\\xfe'\", 4, 'FS-1418845', 'FED', 'FS-FIRESTAT', 'FS', 'USCAENF', 'Eldorado National Forest', '0503', 'Eldorado National Forest', '43', '6', '', 'DEER', '', '', '', '', '', 2004, '6/28/2004', 180, '1600', 'Natural', 'Natural', '', '7/3/2004', '185', '1400', 0.1, 'A', 38.55916667, -119.91333333, 'USFS', 'CA', '3', '06003', 'Alpine County'),\n",
       " (5, \"b'\\\\x00\\\\x01\\\\xad\\\\x10\\\\x00\\\\x00\\\\xd0\\\\x11y\\\\xf8\\\\xb6\\\\xfb]\\\\xc0\\\\xb8\\\\x01j\\\\x9a\\\\x92GC@\\\\xd0\\\\x11y\\\\xf8\\\\xb6\\\\xfb]\\\\xc0\\\\xb8\\\\x01j\\\\x9a\\\\x92GC@|\\\\x01\\\\x00\\\\x00\\\\x00\\\\xd0\\\\x11y\\\\xf8\\\\xb6\\\\xfb]\\\\xc0\\\\xb8\\\\x01j\\\\x9a\\\\x92GC@\\\\xfe'\", 5, 'FS-1418847', 'FED', 'FS-FIRESTAT', 'FS', 'USCAENF', 'Eldorado National Forest', '0503', 'Eldorado National Forest', '44', '7', '', 'STEVENOT', '', '', '', '', '', 2004, '6/28/2004', 180, '1600', 'Natural', 'Natural', '', '7/3/2004', '185', '1200', 0.1, 'A', 38.55916667, -119.93305556, 'USFS', 'CA', '3', '06003', 'Alpine County')]"
      ]
     },
     "execution_count": 4,
     "metadata": {},
     "output_type": "execute_result"
    }
   ],
   "source": [
    "%%sql\n",
    "-- Test out to see if I can read something from the table \n",
    "SELECT *\n",
    "  FROM Fires\n",
    " LIMIT 5;"
   ]
  },
  {
   "cell_type": "code",
   "execution_count": 5,
   "id": "c81cd1c5",
   "metadata": {},
   "outputs": [
    {
     "name": "stdout",
     "output_type": "stream",
     "text": [
      " * sqlite:///wildfire.sqlite\n",
      "Done.\n"
     ]
    },
    {
     "data": {
      "text/plain": [
       "[]"
      ]
     },
     "execution_count": 5,
     "metadata": {},
     "output_type": "execute_result"
    }
   ],
   "source": [
    "%%sql\n",
    "-- Remove obviously irrelevant rows. \n",
    "-- I'm not finding any way to drop multiple columns at once with sqlite.\n",
    "ALTER TABLE Fires\n",
    "DROP COLUMN Shape"
   ]
  },
  {
   "cell_type": "code",
   "execution_count": 6,
   "id": "c6e236f5",
   "metadata": {},
   "outputs": [
    {
     "name": "stdout",
     "output_type": "stream",
     "text": [
      " * sqlite:///wildfire.sqlite\n",
      "Done.\n"
     ]
    },
    {
     "data": {
      "text/plain": [
       "[]"
      ]
     },
     "execution_count": 6,
     "metadata": {},
     "output_type": "execute_result"
    }
   ],
   "source": [
    "%%sql\n",
    "ALTER TABLE Fires\n",
    "DROP COLUMN FPA_ID "
   ]
  },
  {
   "cell_type": "code",
   "execution_count": 7,
   "id": "67236b58",
   "metadata": {},
   "outputs": [
    {
     "name": "stdout",
     "output_type": "stream",
     "text": [
      " * sqlite:///wildfire.sqlite\n",
      "Done.\n"
     ]
    },
    {
     "data": {
      "text/plain": [
       "[]"
      ]
     },
     "execution_count": 7,
     "metadata": {},
     "output_type": "execute_result"
    }
   ],
   "source": [
    "%%sql\n",
    "ALTER TABLE Fires\n",
    "DROP COLUMN SOURCE_SYSTEM_TYPE "
   ]
  },
  {
   "cell_type": "code",
   "execution_count": 8,
   "id": "0bd691cc",
   "metadata": {},
   "outputs": [
    {
     "name": "stdout",
     "output_type": "stream",
     "text": [
      " * sqlite:///wildfire.sqlite\n",
      "Done.\n"
     ]
    },
    {
     "data": {
      "text/plain": [
       "[]"
      ]
     },
     "execution_count": 8,
     "metadata": {},
     "output_type": "execute_result"
    }
   ],
   "source": [
    "%%sql\n",
    "ALTER TABLE Fires\n",
    "DROP COLUMN SOURCE_SYSTEM "
   ]
  },
  {
   "cell_type": "code",
   "execution_count": 9,
   "id": "42354037",
   "metadata": {},
   "outputs": [
    {
     "name": "stdout",
     "output_type": "stream",
     "text": [
      " * sqlite:///wildfire.sqlite\n",
      "Done.\n"
     ]
    },
    {
     "data": {
      "text/plain": [
       "[]"
      ]
     },
     "execution_count": 9,
     "metadata": {},
     "output_type": "execute_result"
    }
   ],
   "source": [
    "%%sql\n",
    "ALTER TABLE Fires\n",
    "DROP COLUMN NWCG_REPORTING_AGENCY"
   ]
  },
  {
   "cell_type": "code",
   "execution_count": 10,
   "id": "a58dd567",
   "metadata": {},
   "outputs": [
    {
     "name": "stdout",
     "output_type": "stream",
     "text": [
      " * sqlite:///wildfire.sqlite\n",
      "Done.\n"
     ]
    },
    {
     "data": {
      "text/plain": [
       "[]"
      ]
     },
     "execution_count": 10,
     "metadata": {},
     "output_type": "execute_result"
    }
   ],
   "source": [
    "%%sql\n",
    "ALTER TABLE Fires\n",
    "DROP COLUMN ICS_209_PLUS_INCIDENT_JOIN_ID"
   ]
  },
  {
   "cell_type": "code",
   "execution_count": 11,
   "id": "f4d4f4a9",
   "metadata": {},
   "outputs": [
    {
     "name": "stdout",
     "output_type": "stream",
     "text": [
      " * sqlite:///wildfire.sqlite\n",
      "Done.\n"
     ]
    },
    {
     "data": {
      "text/plain": [
       "[]"
      ]
     },
     "execution_count": 11,
     "metadata": {},
     "output_type": "execute_result"
    }
   ],
   "source": [
    "%%sql\n",
    "ALTER TABLE Fires\n",
    "DROP COLUMN ICS_209_PLUS_COMPLEX_JOIN_ID"
   ]
  },
  {
   "cell_type": "code",
   "execution_count": 12,
   "id": "8eec2a20",
   "metadata": {},
   "outputs": [
    {
     "name": "stdout",
     "output_type": "stream",
     "text": [
      " * sqlite:///wildfire.sqlite\n",
      "Done.\n"
     ]
    },
    {
     "data": {
      "text/plain": [
       "[]"
      ]
     },
     "execution_count": 12,
     "metadata": {},
     "output_type": "execute_result"
    }
   ],
   "source": [
    "%%sql\n",
    "ALTER TABLE Fires\n",
    "DROP COLUMN MTBS_ID"
   ]
  },
  {
   "cell_type": "code",
   "execution_count": 13,
   "id": "ae1353df",
   "metadata": {},
   "outputs": [
    {
     "name": "stdout",
     "output_type": "stream",
     "text": [
      " * sqlite:///wildfire.sqlite\n",
      "Done.\n"
     ]
    },
    {
     "data": {
      "text/html": [
       "<table>\n",
       "    <tr>\n",
       "        <th>OBJECTID</th>\n",
       "        <th>FOD_ID</th>\n",
       "        <th>NWCG_REPORTING_UNIT_ID</th>\n",
       "        <th>NWCG_REPORTING_UNIT_NAME</th>\n",
       "        <th>SOURCE_REPORTING_UNIT</th>\n",
       "        <th>SOURCE_REPORTING_UNIT_NAME</th>\n",
       "        <th>LOCAL_FIRE_REPORT_ID</th>\n",
       "        <th>LOCAL_INCIDENT_ID</th>\n",
       "        <th>FIRE_CODE</th>\n",
       "        <th>FIRE_NAME</th>\n",
       "        <th>MTBS_FIRE_NAME</th>\n",
       "        <th>COMPLEX_NAME</th>\n",
       "        <th>FIRE_YEAR</th>\n",
       "        <th>DISCOVERY_DATE</th>\n",
       "        <th>DISCOVERY_DOY</th>\n",
       "        <th>DISCOVERY_TIME</th>\n",
       "        <th>NWCG_CAUSE_CLASSIFICATION</th>\n",
       "        <th>NWCG_GENERAL_CAUSE</th>\n",
       "        <th>NWCG_CAUSE_AGE_CATEGORY</th>\n",
       "        <th>CONT_DATE</th>\n",
       "        <th>CONT_DOY</th>\n",
       "        <th>CONT_TIME</th>\n",
       "        <th>FIRE_SIZE</th>\n",
       "        <th>FIRE_SIZE_CLASS</th>\n",
       "        <th>LATITUDE</th>\n",
       "        <th>LONGITUDE</th>\n",
       "        <th>OWNER_DESCR</th>\n",
       "        <th>STATE</th>\n",
       "        <th>COUNTY</th>\n",
       "        <th>FIPS_CODE</th>\n",
       "        <th>FIPS_NAME</th>\n",
       "    </tr>\n",
       "    <tr>\n",
       "        <td>1</td>\n",
       "        <td>1</td>\n",
       "        <td>USCAPNF</td>\n",
       "        <td>Plumas National Forest</td>\n",
       "        <td>0511</td>\n",
       "        <td>Plumas National Forest</td>\n",
       "        <td>1</td>\n",
       "        <td>PNF-47</td>\n",
       "        <td>BJ8K</td>\n",
       "        <td>FOUNTAIN</td>\n",
       "        <td></td>\n",
       "        <td></td>\n",
       "        <td>2005</td>\n",
       "        <td>2/2/2005</td>\n",
       "        <td>33</td>\n",
       "        <td>1300</td>\n",
       "        <td>Human</td>\n",
       "        <td>Power generation/transmission/distribution</td>\n",
       "        <td></td>\n",
       "        <td>2/2/2005</td>\n",
       "        <td>33</td>\n",
       "        <td>1730</td>\n",
       "        <td>0.1</td>\n",
       "        <td>A</td>\n",
       "        <td>40.03694444</td>\n",
       "        <td>-121.00583333</td>\n",
       "        <td>USFS</td>\n",
       "        <td>CA</td>\n",
       "        <td>63</td>\n",
       "        <td>06063</td>\n",
       "        <td>Plumas County</td>\n",
       "    </tr>\n",
       "    <tr>\n",
       "        <td>2</td>\n",
       "        <td>2</td>\n",
       "        <td>USCAENF</td>\n",
       "        <td>Eldorado National Forest</td>\n",
       "        <td>0503</td>\n",
       "        <td>Eldorado National Forest</td>\n",
       "        <td>13</td>\n",
       "        <td>13</td>\n",
       "        <td>AAC0</td>\n",
       "        <td>PIGEON</td>\n",
       "        <td></td>\n",
       "        <td></td>\n",
       "        <td>2004</td>\n",
       "        <td>5/12/2004</td>\n",
       "        <td>133</td>\n",
       "        <td>0845</td>\n",
       "        <td>Natural</td>\n",
       "        <td>Natural</td>\n",
       "        <td></td>\n",
       "        <td>5/12/2004</td>\n",
       "        <td>133</td>\n",
       "        <td>1530</td>\n",
       "        <td>0.25</td>\n",
       "        <td>A</td>\n",
       "        <td>38.93305556</td>\n",
       "        <td>-120.40444444</td>\n",
       "        <td>USFS</td>\n",
       "        <td>CA</td>\n",
       "        <td>61</td>\n",
       "        <td>06061</td>\n",
       "        <td>Placer County</td>\n",
       "    </tr>\n",
       "    <tr>\n",
       "        <td>3</td>\n",
       "        <td>3</td>\n",
       "        <td>USCAENF</td>\n",
       "        <td>Eldorado National Forest</td>\n",
       "        <td>0503</td>\n",
       "        <td>Eldorado National Forest</td>\n",
       "        <td>27</td>\n",
       "        <td>021</td>\n",
       "        <td>A32W</td>\n",
       "        <td>SLACK</td>\n",
       "        <td></td>\n",
       "        <td></td>\n",
       "        <td>2004</td>\n",
       "        <td>5/31/2004</td>\n",
       "        <td>152</td>\n",
       "        <td>1921</td>\n",
       "        <td>Human</td>\n",
       "        <td>Debris and open burning</td>\n",
       "        <td></td>\n",
       "        <td>5/31/2004</td>\n",
       "        <td>152</td>\n",
       "        <td>2024</td>\n",
       "        <td>0.1</td>\n",
       "        <td>A</td>\n",
       "        <td>38.98416667</td>\n",
       "        <td>-120.73555556</td>\n",
       "        <td>STATE OR PRIVATE</td>\n",
       "        <td>CA</td>\n",
       "        <td>17</td>\n",
       "        <td>06017</td>\n",
       "        <td>El Dorado County</td>\n",
       "    </tr>\n",
       "    <tr>\n",
       "        <td>4</td>\n",
       "        <td>4</td>\n",
       "        <td>USCAENF</td>\n",
       "        <td>Eldorado National Forest</td>\n",
       "        <td>0503</td>\n",
       "        <td>Eldorado National Forest</td>\n",
       "        <td>43</td>\n",
       "        <td>6</td>\n",
       "        <td></td>\n",
       "        <td>DEER</td>\n",
       "        <td></td>\n",
       "        <td></td>\n",
       "        <td>2004</td>\n",
       "        <td>6/28/2004</td>\n",
       "        <td>180</td>\n",
       "        <td>1600</td>\n",
       "        <td>Natural</td>\n",
       "        <td>Natural</td>\n",
       "        <td></td>\n",
       "        <td>7/3/2004</td>\n",
       "        <td>185</td>\n",
       "        <td>1400</td>\n",
       "        <td>0.1</td>\n",
       "        <td>A</td>\n",
       "        <td>38.55916667</td>\n",
       "        <td>-119.91333333</td>\n",
       "        <td>USFS</td>\n",
       "        <td>CA</td>\n",
       "        <td>3</td>\n",
       "        <td>06003</td>\n",
       "        <td>Alpine County</td>\n",
       "    </tr>\n",
       "    <tr>\n",
       "        <td>5</td>\n",
       "        <td>5</td>\n",
       "        <td>USCAENF</td>\n",
       "        <td>Eldorado National Forest</td>\n",
       "        <td>0503</td>\n",
       "        <td>Eldorado National Forest</td>\n",
       "        <td>44</td>\n",
       "        <td>7</td>\n",
       "        <td></td>\n",
       "        <td>STEVENOT</td>\n",
       "        <td></td>\n",
       "        <td></td>\n",
       "        <td>2004</td>\n",
       "        <td>6/28/2004</td>\n",
       "        <td>180</td>\n",
       "        <td>1600</td>\n",
       "        <td>Natural</td>\n",
       "        <td>Natural</td>\n",
       "        <td></td>\n",
       "        <td>7/3/2004</td>\n",
       "        <td>185</td>\n",
       "        <td>1200</td>\n",
       "        <td>0.1</td>\n",
       "        <td>A</td>\n",
       "        <td>38.55916667</td>\n",
       "        <td>-119.93305556</td>\n",
       "        <td>USFS</td>\n",
       "        <td>CA</td>\n",
       "        <td>3</td>\n",
       "        <td>06003</td>\n",
       "        <td>Alpine County</td>\n",
       "    </tr>\n",
       "</table>"
      ],
      "text/plain": [
       "[(1, 1, 'USCAPNF', 'Plumas National Forest', '0511', 'Plumas National Forest', '1', 'PNF-47', 'BJ8K', 'FOUNTAIN', '', '', 2005, '2/2/2005', 33, '1300', 'Human', 'Power generation/transmission/distribution', '', '2/2/2005', '33', '1730', 0.1, 'A', 40.03694444, -121.00583333, 'USFS', 'CA', '63', '06063', 'Plumas County'),\n",
       " (2, 2, 'USCAENF', 'Eldorado National Forest', '0503', 'Eldorado National Forest', '13', '13', 'AAC0', 'PIGEON', '', '', 2004, '5/12/2004', 133, '0845', 'Natural', 'Natural', '', '5/12/2004', '133', '1530', 0.25, 'A', 38.93305556, -120.40444444, 'USFS', 'CA', '61', '06061', 'Placer County'),\n",
       " (3, 3, 'USCAENF', 'Eldorado National Forest', '0503', 'Eldorado National Forest', '27', '021', 'A32W', 'SLACK', '', '', 2004, '5/31/2004', 152, '1921', 'Human', 'Debris and open burning', '', '5/31/2004', '152', '2024', 0.1, 'A', 38.98416667, -120.73555556, 'STATE OR PRIVATE', 'CA', '17', '06017', 'El Dorado County'),\n",
       " (4, 4, 'USCAENF', 'Eldorado National Forest', '0503', 'Eldorado National Forest', '43', '6', '', 'DEER', '', '', 2004, '6/28/2004', 180, '1600', 'Natural', 'Natural', '', '7/3/2004', '185', '1400', 0.1, 'A', 38.55916667, -119.91333333, 'USFS', 'CA', '3', '06003', 'Alpine County'),\n",
       " (5, 5, 'USCAENF', 'Eldorado National Forest', '0503', 'Eldorado National Forest', '44', '7', '', 'STEVENOT', '', '', 2004, '6/28/2004', 180, '1600', 'Natural', 'Natural', '', '7/3/2004', '185', '1200', 0.1, 'A', 38.55916667, -119.93305556, 'USFS', 'CA', '3', '06003', 'Alpine County')]"
      ]
     },
     "execution_count": 13,
     "metadata": {},
     "output_type": "execute_result"
    }
   ],
   "source": [
    "%%sql\n",
    "-- Check out the table again .\n",
    "SELECT *\n",
    "  FROM Fires\n",
    " LIMIT 5;"
   ]
  },
  {
   "cell_type": "code",
   "execution_count": 12,
   "id": "66813493",
   "metadata": {},
   "outputs": [
    {
     "name": "stdout",
     "output_type": "stream",
     "text": [
      " * sqlite:///wildfire.sqlite\n",
      "Done.\n"
     ]
    },
    {
     "data": {
      "text/html": [
       "<table>\n",
       "    <tr>\n",
       "        <th>distinct_nwcg_id</th>\n",
       "        <th>distinct_nwcg_name</th>\n",
       "        <th>distinct_source_id</th>\n",
       "        <th>distinct_source_name</th>\n",
       "        <th>distinct_report_id</th>\n",
       "        <th>distinct_incident_id</th>\n",
       "        <th>distinct_fire_code</th>\n",
       "        <th>distinct_fire_name</th>\n",
       "        <th>distinct_mtbs_name</th>\n",
       "        <th>distinct_mtbs_name_1</th>\n",
       "        <th>distinct_complex_name</th>\n",
       "        <th>distinct_year</th>\n",
       "        <th>distinct_date</th>\n",
       "        <th>distinct_doy</th>\n",
       "        <th>distinct_time</th>\n",
       "        <th>distinct_cause_class</th>\n",
       "        <th>distinct_gen_cause</th>\n",
       "        <th>distinct_age</th>\n",
       "        <th>distinct_containment</th>\n",
       "        <th>distinct_size</th>\n",
       "        <th>distinct_state</th>\n",
       "        <th>distinct_county</th>\n",
       "    </tr>\n",
       "    <tr>\n",
       "        <td>2143</td>\n",
       "        <td>2105</td>\n",
       "        <td>6288</td>\n",
       "        <td>5203</td>\n",
       "        <td>17611</td>\n",
       "        <td>950105</td>\n",
       "        <td>230077</td>\n",
       "        <td>701435</td>\n",
       "        <td>10010</td>\n",
       "        <td>10010</td>\n",
       "        <td>1535</td>\n",
       "        <td>29</td>\n",
       "        <td>10593</td>\n",
       "        <td>366</td>\n",
       "        <td>1441</td>\n",
       "        <td>3</td>\n",
       "        <td>13</td>\n",
       "        <td>2</td>\n",
       "        <td>10597</td>\n",
       "        <td>18559</td>\n",
       "        <td>52</td>\n",
       "        <td>1806</td>\n",
       "    </tr>\n",
       "</table>"
      ],
      "text/plain": [
       "[(2143, 2105, 6288, 5203, 17611, 950105, 230077, 701435, 10010, 10010, 1535, 29, 10593, 366, 1441, 3, 13, 2, 10597, 18559, 52, 1806)]"
      ]
     },
     "execution_count": 12,
     "metadata": {},
     "output_type": "execute_result"
    }
   ],
   "source": [
    "%%sql \n",
    "-- Get a sense of how many values in various columns\n",
    "SELECT COUNT(DISTINCT NWCG_REPORTING_UNIT_ID) AS distinct_nwcg_id,       \n",
    "       COUNT(DISTINCT NWCG_REPORTING_UNIT_NAME) AS distinct_nwcg_name,       \n",
    "       COUNT(DISTINCT SOURCE_REPORTING_UNIT) AS distinct_source_id,       \n",
    "       COUNT(DISTINCT SOURCE_REPORTING_UNIT_NAME) AS distinct_source_name,       \n",
    "       COUNT(DISTINCT LOCAL_FIRE_REPORT_ID) AS distinct_report_id,       \n",
    "       COUNT(DISTINCT LOCAL_INCIDENT_ID) AS distinct_incident_id,       \n",
    "       COUNT(DISTINCT FIRE_CODE) AS distinct_fire_code,    \n",
    "       COUNT(DISTINCT FIRE_NAME) AS distinct_fire_name,       \n",
    "       COUNT(DISTINCT MTBS_FIRE_NAME) AS distinct_mtbs_name,       \n",
    "       COUNT(DISTINCT MTBS_FIRE_NAME) AS distinct_mtbs_name,    \n",
    "       COUNT(DISTINCT COMPLEX_NAME) AS distinct_complex_name,    \n",
    "       COUNT(DISTINCT FIRE_YEAR) AS distinct_year,    \n",
    "       COUNT(DISTINCT DISCOVERY_DATE) AS distinct_date,    \n",
    "       COUNT(DISTINCT DISCOVERY_DOY) AS distinct_doy,    \n",
    "       COUNT(DISTINCT DISCOVERY_TIME) AS distinct_time,    \n",
    "       COUNT(DISTINCT NWCG_CAUSE_CLASSIFICATION) AS distinct_cause_class,    \n",
    "       COUNT(DISTINCT NWCG_GENERAL_CAUSE) AS distinct_gen_cause,    \n",
    "       COUNT(DISTINCT NWCG_CAUSE_AGE_CATEGORY) AS distinct_age,    \n",
    "       COUNT(DISTINCT CONT_DATE) AS distinct_containment,    \n",
    "       COUNT(DISTINCT FIRE_SIZE) AS distinct_size,\n",
    "       COUNT(DISTINCT STATE) AS distinct_state,\n",
    "       COUNT(DISTINCT FIPS_NAME) AS distinct_county\n",
    "  FROM Fires;"
   ]
  },
  {
   "cell_type": "code",
   "execution_count": 16,
   "id": "9f5ef735",
   "metadata": {},
   "outputs": [
    {
     "name": "stdout",
     "output_type": "stream",
     "text": [
      " * sqlite:///wildfire.sqlite\n",
      "Done.\n"
     ]
    },
    {
     "data": {
      "text/html": [
       "<table>\n",
       "    <tr>\n",
       "        <th>COUNT(*)</th>\n",
       "    </tr>\n",
       "    <tr>\n",
       "        <td>665779</td>\n",
       "    </tr>\n",
       "</table>"
      ],
      "text/plain": [
       "[(665779,)]"
      ]
     },
     "execution_count": 16,
     "metadata": {},
     "output_type": "execute_result"
    }
   ],
   "source": [
    "%%sql\n",
    "-- Count null values in each column. I found that sqlite doesn't pick up null values.\n",
    "-- Need to find where the value = ''. Start with the three columns associated with county.\n",
    "SELECT COUNT(*)\n",
    "  FROM Fires\n",
    " WHERE FIPS_NAME = '' AND FIPS_CODE = '' AND COUNTY = '';"
   ]
  },
  {
   "cell_type": "code",
   "execution_count": 4,
   "id": "13e7fbfe",
   "metadata": {},
   "outputs": [
    {
     "name": "stdout",
     "output_type": "stream",
     "text": [
      " * sqlite:///wildfire.sqlite\n",
      "Done.\n"
     ]
    },
    {
     "data": {
      "text/html": [
       "<table>\n",
       "    <tr>\n",
       "        <th>COUNT(*)</th>\n",
       "    </tr>\n",
       "    <tr>\n",
       "        <td>0</td>\n",
       "    </tr>\n",
       "</table>"
      ],
      "text/plain": [
       "[(0,)]"
      ]
     },
     "execution_count": 4,
     "metadata": {},
     "output_type": "execute_result"
    }
   ],
   "source": [
    "%%sql\n",
    "-- How many rows are missing latitude/longitude?\n",
    "SELECT COUNT(*)\n",
    "  FROM Fires\n",
    " WHERE LATITUDE = '' OR LONGITUDE = '';"
   ]
  },
  {
   "cell_type": "code",
   "execution_count": 5,
   "id": "b88e8189",
   "metadata": {},
   "outputs": [
    {
     "name": "stdout",
     "output_type": "stream",
     "text": [
      " * sqlite:///wildfire.sqlite\n",
      "Done.\n"
     ]
    },
    {
     "data": {
      "text/html": [
       "<table>\n",
       "    <tr>\n",
       "        <th>COUNT(*)</th>\n",
       "    </tr>\n",
       "    <tr>\n",
       "        <td>0</td>\n",
       "    </tr>\n",
       "</table>"
      ],
      "text/plain": [
       "[(0,)]"
      ]
     },
     "execution_count": 5,
     "metadata": {},
     "output_type": "execute_result"
    }
   ],
   "source": [
    "%%sql\n",
    "-- Another key feature is date\n",
    "SELECT COUNT(*)\n",
    "  FROM Fires\n",
    " WHERE DISCOVERY_DATE = '' AND DISCOVERY_DOY = '';"
   ]
  },
  {
   "cell_type": "code",
   "execution_count": 8,
   "id": "ef9b5e44",
   "metadata": {},
   "outputs": [
    {
     "name": "stdout",
     "output_type": "stream",
     "text": [
      " * sqlite:///wildfire.sqlite\n",
      "Done.\n"
     ]
    },
    {
     "data": {
      "text/html": [
       "<table>\n",
       "    <tr>\n",
       "        <th>COUNT(*)</th>\n",
       "    </tr>\n",
       "    <tr>\n",
       "        <td>894813</td>\n",
       "    </tr>\n",
       "</table>"
      ],
      "text/plain": [
       "[(894813,)]"
      ]
     },
     "execution_count": 8,
     "metadata": {},
     "output_type": "execute_result"
    }
   ],
   "source": [
    "%%sql\n",
    "SELECT COUNT(*)\n",
    "  FROM Fires\n",
    " WHERE CONT_DATE = '' AND CONT_DOY = '';"
   ]
  },
  {
   "cell_type": "code",
   "execution_count": 9,
   "id": "a52b1056",
   "metadata": {},
   "outputs": [
    {
     "name": "stdout",
     "output_type": "stream",
     "text": [
      " * sqlite:///wildfire.sqlite\n",
      "Done.\n"
     ]
    },
    {
     "data": {
      "text/html": [
       "<table>\n",
       "    <tr>\n",
       "        <th>COUNT(*)</th>\n",
       "    </tr>\n",
       "    <tr>\n",
       "        <td>319683</td>\n",
       "    </tr>\n",
       "</table>"
      ],
      "text/plain": [
       "[(319683,)]"
      ]
     },
     "execution_count": 9,
     "metadata": {},
     "output_type": "execute_result"
    }
   ],
   "source": [
    "%%sql\n",
    "-- We know a start date for every fire, but not necessarily an end date\n",
    "-- For fires where we don't know the end date, do we also not know the county?\n",
    "SELECT COUNT(*)\n",
    "  FROM Fires\n",
    " WHERE CONT_DATE = '' AND CONT_DOY = '' AND FIPS_NAME = '' AND FIPS_CODE = '' AND COUNTY = '';"
   ]
  },
  {
   "cell_type": "code",
   "execution_count": 10,
   "id": "f481cacf",
   "metadata": {},
   "outputs": [
    {
     "name": "stdout",
     "output_type": "stream",
     "text": [
      " * sqlite:///wildfire.sqlite\n",
      "Done.\n"
     ]
    },
    {
     "data": {
      "text/html": [
       "<table>\n",
       "    <tr>\n",
       "        <th>COUNT(*)</th>\n",
       "    </tr>\n",
       "    <tr>\n",
       "        <td>0</td>\n",
       "    </tr>\n",
       "</table>"
      ],
      "text/plain": [
       "[(0,)]"
      ]
     },
     "execution_count": 10,
     "metadata": {},
     "output_type": "execute_result"
    }
   ],
   "source": [
    "%%sql\n",
    "-- The final key feature of interest is cause\n",
    "SELECT COUNT(*)\n",
    "  FROM Fires\n",
    " WHERE NWCG_GENERAL_CAUSE = ''"
   ]
  },
  {
   "cell_type": "markdown",
   "id": "41466c2b",
   "metadata": {},
   "source": [
    "About 300k rows have neither an end date nor a county. But all fires have a start date, or rather \"discovery date.\" And all rows have a cause. \n",
    "\n",
    "We could either impute location names based on latitude and longitude, or just drop rows with missing values for now and come back later to improve data quantity. \n",
    "\n",
    "First, explore and try to delete more columns that may be irrelevant. "
   ]
  },
  {
   "cell_type": "code",
   "execution_count": 19,
   "id": "6db6d688",
   "metadata": {},
   "outputs": [
    {
     "name": "stdout",
     "output_type": "stream",
     "text": [
      " * sqlite:///wildfire.sqlite\n",
      "Done.\n"
     ]
    },
    {
     "data": {
      "text/html": [
       "<table>\n",
       "    <tr>\n",
       "        <th>COUNT(*)</th>\n",
       "    </tr>\n",
       "    <tr>\n",
       "        <td>0</td>\n",
       "    </tr>\n",
       "</table>"
      ],
      "text/plain": [
       "[(0,)]"
      ]
     },
     "execution_count": 19,
     "metadata": {},
     "output_type": "execute_result"
    }
   ],
   "source": [
    "%%sql\n",
    "SELECT COUNT(*)\n",
    "  FROM Fires\n",
    " WHERE NWCG_REPORTING_UNIT_NAME = ''"
   ]
  },
  {
   "cell_type": "code",
   "execution_count": 20,
   "id": "3ed36ee5",
   "metadata": {},
   "outputs": [
    {
     "name": "stdout",
     "output_type": "stream",
     "text": [
      " * sqlite:///wildfire.sqlite\n",
      "Done.\n"
     ]
    },
    {
     "data": {
      "text/plain": [
       "[]"
      ]
     },
     "execution_count": 20,
     "metadata": {},
     "output_type": "execute_result"
    }
   ],
   "source": [
    "%%sql\n",
    "-- Since all nwcg reporting unit names are present, no need for the IDs\n",
    "ALTER TABLE Fires\n",
    "DROP COLUMN NWCG_REPORTING_UNIT_ID"
   ]
  },
  {
   "cell_type": "code",
   "execution_count": 21,
   "id": "10cdb981",
   "metadata": {},
   "outputs": [
    {
     "name": "stdout",
     "output_type": "stream",
     "text": [
      " * sqlite:///wildfire.sqlite\n",
      "Done.\n"
     ]
    },
    {
     "data": {
      "text/html": [
       "<table>\n",
       "    <tr>\n",
       "        <th>COUNT(*)</th>\n",
       "    </tr>\n",
       "    <tr>\n",
       "        <td>0</td>\n",
       "    </tr>\n",
       "</table>"
      ],
      "text/plain": [
       "[(0,)]"
      ]
     },
     "execution_count": 21,
     "metadata": {},
     "output_type": "execute_result"
    }
   ],
   "source": [
    "%%sql\n",
    "-- Check out the same for source reporting unit\n",
    "SELECT COUNT(*)\n",
    "  FROM Fires\n",
    " WHERE SOURCE_REPORTING_UNIT_NAME = ''"
   ]
  },
  {
   "cell_type": "code",
   "execution_count": 22,
   "id": "f912330e",
   "metadata": {},
   "outputs": [
    {
     "name": "stdout",
     "output_type": "stream",
     "text": [
      " * sqlite:///wildfire.sqlite\n",
      "Done.\n"
     ]
    },
    {
     "data": {
      "text/plain": [
       "[]"
      ]
     },
     "execution_count": 22,
     "metadata": {},
     "output_type": "execute_result"
    }
   ],
   "source": [
    "%%sql\n",
    "ALTER TABLE Fires\n",
    "DROP COLUMN SOURCE_REPORTING_UNIT"
   ]
  },
  {
   "cell_type": "code",
   "execution_count": 23,
   "id": "cecc6d0d",
   "metadata": {},
   "outputs": [
    {
     "name": "stdout",
     "output_type": "stream",
     "text": [
      " * sqlite:///wildfire.sqlite\n",
      "Done.\n"
     ]
    },
    {
     "data": {
      "text/html": [
       "<table>\n",
       "    <tr>\n",
       "        <th>COUNT(*)</th>\n",
       "    </tr>\n",
       "    <tr>\n",
       "        <td>1011140</td>\n",
       "    </tr>\n",
       "</table>"
      ],
      "text/plain": [
       "[(1011140,)]"
      ]
     },
     "execution_count": 23,
     "metadata": {},
     "output_type": "execute_result"
    }
   ],
   "source": [
    "%%sql\n",
    "-- Probably don't need both nwcg reporting unit and source reporting unit names\n",
    "-- But at least one of them may be useful in narrowing down location/county\n",
    "-- Are these columns identical? If not, how do they differe?\n",
    "SELECT COUNT(*)\n",
    "  FROM Fires\n",
    " WHERE SOURCE_REPORTING_UNIT_NAME <> NWCG_REPORTING_UNIT_NAME"
   ]
  },
  {
   "cell_type": "code",
   "execution_count": 25,
   "id": "807af6b2",
   "metadata": {},
   "outputs": [
    {
     "name": "stdout",
     "output_type": "stream",
     "text": [
      " * sqlite:///wildfire.sqlite\n",
      "Done.\n"
     ]
    },
    {
     "data": {
      "text/html": [
       "<table>\n",
       "    <tr>\n",
       "        <th>SOURCE_REPORTING_UNIT_NAME</th>\n",
       "        <th>NWCG_REPORTING_UNIT_NAME</th>\n",
       "    </tr>\n",
       "    <tr>\n",
       "        <td>Medicine Bow-Routt National Forest</td>\n",
       "        <td>Medicine Bow-Routt National Forests, Thunder Basin National Grassland</td>\n",
       "    </tr>\n",
       "    <tr>\n",
       "        <td>Pike San Isabel National Forest</td>\n",
       "        <td>Pike and San Isabel National Forest</td>\n",
       "    </tr>\n",
       "    <tr>\n",
       "        <td>Pike San Isabel National Forest</td>\n",
       "        <td>Pike and San Isabel National Forest</td>\n",
       "    </tr>\n",
       "    <tr>\n",
       "        <td>Pike San Isabel National Forest</td>\n",
       "        <td>Pike and San Isabel National Forest</td>\n",
       "    </tr>\n",
       "    <tr>\n",
       "        <td>Uinta National Forest</td>\n",
       "        <td>Uinta-Wasatch-Cache National Forest</td>\n",
       "    </tr>\n",
       "    <tr>\n",
       "        <td>Pike San Isabel National Forest</td>\n",
       "        <td>Pike and San Isabel National Forest</td>\n",
       "    </tr>\n",
       "    <tr>\n",
       "        <td>Custer National Forest</td>\n",
       "        <td>Custer Gallatin National Forest</td>\n",
       "    </tr>\n",
       "    <tr>\n",
       "        <td>Wasatch-Cache-Uinta National Forest</td>\n",
       "        <td>Uinta-Wasatch-Cache National Forest</td>\n",
       "    </tr>\n",
       "    <tr>\n",
       "        <td>Pike San Isabel National Forest</td>\n",
       "        <td>Pike and San Isabel National Forest</td>\n",
       "    </tr>\n",
       "    <tr>\n",
       "        <td>National Forests in Texas</td>\n",
       "        <td>National Forests And Grasslands In Texas</td>\n",
       "    </tr>\n",
       "    <tr>\n",
       "        <td>National Forests in Texas</td>\n",
       "        <td>National Forests And Grasslands In Texas</td>\n",
       "    </tr>\n",
       "    <tr>\n",
       "        <td>National Forests in Texas</td>\n",
       "        <td>National Forests And Grasslands In Texas</td>\n",
       "    </tr>\n",
       "    <tr>\n",
       "        <td>National Forests in Texas</td>\n",
       "        <td>National Forests And Grasslands In Texas</td>\n",
       "    </tr>\n",
       "    <tr>\n",
       "        <td>National Forests in Texas</td>\n",
       "        <td>National Forests And Grasslands In Texas</td>\n",
       "    </tr>\n",
       "    <tr>\n",
       "        <td>National Forests in Texas</td>\n",
       "        <td>National Forests And Grasslands In Texas</td>\n",
       "    </tr>\n",
       "    <tr>\n",
       "        <td>National Forests in Texas</td>\n",
       "        <td>National Forests And Grasslands In Texas</td>\n",
       "    </tr>\n",
       "    <tr>\n",
       "        <td>National Forests in Texas</td>\n",
       "        <td>National Forests And Grasslands In Texas</td>\n",
       "    </tr>\n",
       "    <tr>\n",
       "        <td>National Forests in Texas</td>\n",
       "        <td>National Forests And Grasslands In Texas</td>\n",
       "    </tr>\n",
       "    <tr>\n",
       "        <td>National Forests in Texas</td>\n",
       "        <td>National Forests And Grasslands In Texas</td>\n",
       "    </tr>\n",
       "    <tr>\n",
       "        <td>National Forests in Texas</td>\n",
       "        <td>National Forests And Grasslands In Texas</td>\n",
       "    </tr>\n",
       "</table>"
      ],
      "text/plain": [
       "[('Medicine Bow-Routt National Forest', 'Medicine Bow-Routt National Forests, Thunder Basin National Grassland'),\n",
       " ('Pike San Isabel National Forest', 'Pike and San Isabel National Forest'),\n",
       " ('Pike San Isabel National Forest', 'Pike and San Isabel National Forest'),\n",
       " ('Pike San Isabel National Forest', 'Pike and San Isabel National Forest'),\n",
       " ('Uinta National Forest', 'Uinta-Wasatch-Cache National Forest'),\n",
       " ('Pike San Isabel National Forest', 'Pike and San Isabel National Forest'),\n",
       " ('Custer National Forest', 'Custer Gallatin National Forest'),\n",
       " ('Wasatch-Cache-Uinta National Forest', 'Uinta-Wasatch-Cache National Forest'),\n",
       " ('Pike San Isabel National Forest', 'Pike and San Isabel National Forest'),\n",
       " ('National Forests in Texas', 'National Forests And Grasslands In Texas'),\n",
       " ('National Forests in Texas', 'National Forests And Grasslands In Texas'),\n",
       " ('National Forests in Texas', 'National Forests And Grasslands In Texas'),\n",
       " ('National Forests in Texas', 'National Forests And Grasslands In Texas'),\n",
       " ('National Forests in Texas', 'National Forests And Grasslands In Texas'),\n",
       " ('National Forests in Texas', 'National Forests And Grasslands In Texas'),\n",
       " ('National Forests in Texas', 'National Forests And Grasslands In Texas'),\n",
       " ('National Forests in Texas', 'National Forests And Grasslands In Texas'),\n",
       " ('National Forests in Texas', 'National Forests And Grasslands In Texas'),\n",
       " ('National Forests in Texas', 'National Forests And Grasslands In Texas'),\n",
       " ('National Forests in Texas', 'National Forests And Grasslands In Texas')]"
      ]
     },
     "execution_count": 25,
     "metadata": {},
     "output_type": "execute_result"
    }
   ],
   "source": [
    "%%sql\n",
    "-- There are lots of rows where these are not the same. Check out some of them. \n",
    "SELECT SOURCE_REPORTING_UNIT_NAME, NWCG_REPORTING_UNIT_NAME\n",
    "  FROM Fires\n",
    " WHERE SOURCE_REPORTING_UNIT_NAME <> NWCG_REPORTING_UNIT_NAME\n",
    " LIMIT 20"
   ]
  },
  {
   "cell_type": "markdown",
   "id": "48525fc0",
   "metadata": {},
   "source": [
    "These aren't identical, but none of the names are different enough that it makes sense to keep both columns. "
   ]
  },
  {
   "cell_type": "code",
   "execution_count": 26,
   "id": "18632e02",
   "metadata": {},
   "outputs": [
    {
     "name": "stdout",
     "output_type": "stream",
     "text": [
      " * sqlite:///wildfire.sqlite\n",
      "Done.\n"
     ]
    },
    {
     "data": {
      "text/plain": [
       "[]"
      ]
     },
     "execution_count": 26,
     "metadata": {},
     "output_type": "execute_result"
    }
   ],
   "source": [
    "%%sql\n",
    "ALTER TABLE Fires\n",
    "DROP COLUMN NWCG_REPORTING_UNIT_NAME"
   ]
  },
  {
   "cell_type": "code",
   "execution_count": null,
   "id": "a20b88dd",
   "metadata": {},
   "outputs": [],
   "source": [
    "LOCAL_FIRE_REPORT_ID"
   ]
  }
 ],
 "metadata": {
  "kernelspec": {
   "display_name": "Python 3 (ipykernel)",
   "language": "python",
   "name": "python3"
  },
  "language_info": {
   "codemirror_mode": {
    "name": "ipython",
    "version": 3
   },
   "file_extension": ".py",
   "mimetype": "text/x-python",
   "name": "python",
   "nbconvert_exporter": "python",
   "pygments_lexer": "ipython3",
   "version": "3.9.12"
  }
 },
 "nbformat": 4,
 "nbformat_minor": 5
}
